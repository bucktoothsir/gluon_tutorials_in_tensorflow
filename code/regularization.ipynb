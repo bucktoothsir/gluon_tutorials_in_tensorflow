{
 "cells": [
  {
   "cell_type": "markdown",
   "metadata": {},
   "source": [
    "##  正则化 — 从0开始\n",
    "本章从0开始介绍如何的正则化来应对过拟合问题。\n",
    "\n",
    "### 高维线性回归\n",
    "我们使用高维线性回归为例来引入一个过拟合问题。\n",
    "\n",
    "具体来说我们使用如下的线性函数来生成每一个数据样本\n",
    "\n",
    "$y = 0.05 + \\sum_{i = 1}^p 0.01x_i +  \\text{noise}$\n",
    "\n",
    "这里噪音服从均值0和标准差为0.01的正态分布。\n",
    "\n",
    "需要注意的是，我们用以上相同的数据生成函数来生成训练数据集和测试数据集。为了观察过拟合，我们特意把训练数据样本数设低，例如$n=20$，同时把维度升高，例如$p=200$。"
   ]
  },
  {
   "cell_type": "code",
   "execution_count": 18,
   "metadata": {},
   "outputs": [],
   "source": [
    "import numpy as np\n",
    "\n",
    "num_train = 20\n",
    "num_test = 100\n",
    "# 特征维数\n",
    "num_inputs = 200"
   ]
  },
  {
   "cell_type": "markdown",
   "metadata": {},
   "source": [
    "### 生成数据集\n",
    "这里定义模型真实参数。"
   ]
  },
  {
   "cell_type": "code",
   "execution_count": 19,
   "metadata": {},
   "outputs": [],
   "source": [
    "true_w = np.ones((num_inputs, 1)) * 0.01\n",
    "true_b = 0.05"
   ]
  },
  {
   "cell_type": "markdown",
   "metadata": {},
   "source": [
    "我们接着生成训练和测试数据集。\n",
    "\n"
   ]
  },
  {
   "cell_type": "code",
   "execution_count": 20,
   "metadata": {},
   "outputs": [],
   "source": [
    "X = np.random.normal(size=(num_train + num_test, num_inputs))\n",
    "y = np.matmul(X, true_w) + true_b\n",
    "y += .01 * np.random.normal(size=y.shape)\n",
    "X_train, X_test = X[:num_train, :], X[num_train:, :]\n",
    "y_train, y_test = y[:num_train], y[num_train:]"
   ]
  },
  {
   "cell_type": "markdown",
   "metadata": {},
   "source": [
    "当我们开始训练神经网络的时候，我们需要不断读取数据块。这里我们定义一个函数它每次返回`batch_size`个随机的样本和对应的目标。我们通过python的`yield`来构造一个迭代器。"
   ]
  },
  {
   "cell_type": "code",
   "execution_count": 21,
   "metadata": {},
   "outputs": [],
   "source": [
    "import random\n",
    "batch_size = 1\n",
    "def data_iter(X, y, num_examples, num_epochs, batch_size, shuffle=True):\n",
    "    idx = list(range(num_examples*num_epochs))\n",
    "    #random.shuffle(idx)\n",
    "    batch_X = []\n",
    "    batch_y = []\n",
    "    for i in idx:\n",
    "        i %= num_examples\n",
    "        batch_X.append(X[i])\n",
    "        batch_y.append(y[i])\n",
    "        if len(batch_X) == batch_size:\n",
    "            yield np.array(batch_X), np.array(batch_y)\n",
    "            batch_X = []\n",
    "            batch_y = []"
   ]
  },
  {
   "cell_type": "markdown",
   "metadata": {},
   "source": [
    "### 初始化模型参数\n",
    "下面我们随机初始化模型参数。之后训练时我们需要对这些参数求导来更新它们的值，所以我们需要创建它们的梯度。\n",
    "\n"
   ]
  },
  {
   "cell_type": "code",
   "execution_count": 22,
   "metadata": {},
   "outputs": [],
   "source": [
    "def init_params():\n",
    "    w = np.random.normal(size=(num_inputs, 1)) + 1\n",
    "    #w = np.zeros((num_inputs, 1))\n",
    "    b = np.zeros((1,))\n",
    "    params = [w, b]\n",
    "    return params"
   ]
  },
  {
   "cell_type": "markdown",
   "metadata": {},
   "source": [
    "### $L_2$范数正则化\n",
    "这里我们引入$L_2$范数正则化。不同于在训练时仅仅最小化损失函数(Loss)，我们在训练时其实在最小化\n",
    "\n",
    "$\\text{loss} + \\lambda \\sum_{p \\in \\textrm{params}}\\|p\\|_2^2。$\n",
    "\n",
    "直观上，$L_2$范数正则化试图惩罚较大绝对值的参数值。下面我们定义$L_2$正则化。注意有些时候大家对偏移加罚，有时候不加罚。通常结果上两者区别不大。这里我们演示对偏移也加罚的情况："
   ]
  },
  {
   "cell_type": "code",
   "execution_count": 23,
   "metadata": {},
   "outputs": [],
   "source": [
    "def L2_penalty(w, b):\n",
    "    return ((w**2).sum() + b**2) /2 \n"
   ]
  },
  {
   "cell_type": "markdown",
   "metadata": {},
   "source": [
    "### 定义训练和测试\n",
    "下面我们定义剩下的所需要的函数。这个跟之前的教程大致一样，主要是区别在于计算`loss`的时候我们加上了L2正则化，以及我们将训练和测试损失都画了出来。"
   ]
  },
  {
   "cell_type": "code",
   "execution_count": 24,
   "metadata": {},
   "outputs": [],
   "source": [
    "%matplotlib inline\n",
    "import matplotlib as mpl\n",
    "mpl.rcParams['figure.dpi']= 120\n",
    "import matplotlib.pyplot as plt\n",
    "import numpy as np\n",
    "\n",
    "def net(X, w, b):\n",
    "    return np.matmul(X, w) + b\n",
    "\n",
    "def square_loss(yhat, y):\n",
    "    return np.mean((yhat - y.reshape(yhat.shape)) ** 2 / 2)\n",
    "    \n",
    "def sgd(params, lambd, lr, batch_size, yhat, y, X):\n",
    "    w = params[0]\n",
    "    b = params[1]\n",
    "    w = (1 - lr * lambd) * w - lr * grad_w(yhat, y, X, batch_size) \n",
    "    b = (1 - lr * lambd) * b - lr * grad_b(yhat, y, batch_size)\n",
    "    return [w, b]\n",
    "\n",
    "def grad_w(yhat, y, X, batch_size):\n",
    "    return np.matmul(X.T, (yhat - y)) / batch_size\n",
    "\n",
    "def grad_b(yhat, y, batch_size):\n",
    "    return np.sum((yhat-y)) / batch_size\n",
    "\n",
    "def test(net, params, X, y):\n",
    "    #return square_loss(net(X, *params), y).mean().asscalar()\n",
    "    return square_loss(net(X, params[0], params[1]), y) \n",
    "\n",
    "def train(lambd):\n",
    "    num_epochs = 50\n",
    "    learning_rate = 0.01\n",
    "    batch_size = 10\n",
    "    w, b = params = init_params()\n",
    "    train_loss = []\n",
    "    test_loss = []\n",
    "    for batch_X, batch_y in data_iter(X_train, y_train, num_train, num_epochs, batch_size, shuffle=False):\n",
    "        output = net(batch_X, w, b)\n",
    "        loss = square_loss(output, batch_y) + lambd * L2_penalty(w, b)\n",
    "        w, b = params = sgd(params, lambd, learning_rate, batch_size, output, batch_y, batch_X)\n",
    "        train_loss.append(test(net, params, X_train, y_train))\n",
    "        test_loss.append(test(net, params, X_test, y_test))\n",
    "    plt.plot(train_loss)\n",
    "    plt.plot(test_loss)\n",
    "    plt.legend(['train', 'test'])\n",
    "    plt.show()\n",
    "    return 'learned w[:10]:', w[:10].T, 'learned b:', b"
   ]
  },
  {
   "cell_type": "code",
   "execution_count": 25,
   "metadata": {},
   "outputs": [
    {
     "data": {
      "image/png": "[encoded data removed]",
      "text/plain": [
       "<matplotlib.figure.Figure at 0x117d2e7d0>"
      ]
     },
     "metadata": {},
     "output_type": "display_data"
    },
    {
     "data": {
      "text/plain": [
       "('learned w[:10]:',\n",
       " array([[1.35012378, 1.75643805, 1.5139215 , 0.27187214, 0.06569743,\n",
       "         1.41660932, 1.80490346, 1.93053462, 2.11092912, 0.63803364]]),\n",
       " 'learned b:',\n",
       " array([-0.17460435]))"
      ]
     },
     "execution_count": 25,
     "metadata": {},
     "output_type": "execute_result"
    }
   ],
   "source": [
    "train(0)\n"
   ]
  },
  {
   "cell_type": "markdown",
   "metadata": {},
   "source": [
    "即便训练误差可以达到0.000000，但是测试数据集上的误差很高。这是典型的过拟合现象。\n",
    "\n",
    "观察学习的参数。事实上，大部分学到的参数的绝对值比真实参数的绝对值要大一些。\n",
    "\n",
    "### 使用正则化\n",
    "下面我们重新初始化模型参数并设置一个正则化参数。\n",
    "\n"
   ]
  },
  {
   "cell_type": "code",
   "execution_count": 26,
   "metadata": {},
   "outputs": [
    {
     "data": {
      "image/png": "[encoded data removed]",
      "text/plain": [
       "<matplotlib.figure.Figure at 0x117c8d3d0>"
      ]
     },
     "metadata": {},
     "output_type": "display_data"
    },
    {
     "data": {
      "text/plain": [
       "('learned w[:10]:',\n",
       " array([[ 0.00067986,  0.00799375,  0.01288328, -0.00069228,  0.00528985,\n",
       "         -0.00115052,  0.00895132, -0.00553428,  0.00260429,  0.01165011]]),\n",
       " 'learned b:',\n",
       " array([0.00383003]))"
      ]
     },
     "execution_count": 26,
     "metadata": {},
     "output_type": "execute_result"
    }
   ],
   "source": [
    "train(5)"
   ]
  },
  {
   "cell_type": "code",
   "execution_count": null,
   "metadata": {},
   "outputs": [],
   "source": []
  }
 ],
 "metadata": {
  "kernelspec": {
   "display_name": "Python 2",
   "language": "python",
   "name": "python2"
  },
  "language_info": {
   "codemirror_mode": {
    "name": "ipython",
    "version": 2
   },
   "file_extension": ".py",
   "mimetype": "text/x-python",
   "name": "python",
   "nbconvert_exporter": "python",
   "pygments_lexer": "ipython2",
   "version": "2.7.14"
  }
 },
 "nbformat": 4,
 "nbformat_minor": 2
}
