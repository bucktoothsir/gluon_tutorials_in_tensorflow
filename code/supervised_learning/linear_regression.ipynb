{
 "cells": [
  {
   "cell_type": "markdown",
   "metadata": {},
   "source": [
    "\n",
    "## 线性回归 — 从0开始\n",
    "对应的gluon教程http://zh.gluon.ai/chapter_supervised-learning/linear-regression-scratch.html\n",
    "\n",
    "尽管强大的深度学习框架可以减少大量重复性工作，但若过于依赖它提供的便利，你就会很难深入理解深度学习是如何工作的。因此，我们的第一个教程是如何只利用tensorflow来实现一个线性回归的训练。\n",
    "\n",
    "### 线性回归\n",
    "给定一个数据点集合`X`和对应的目标值`y`，线性模型的目标就是找到一条使用向量w和位移b描述的线，来尽可能地近似每个样本`X[i]`和`y[i]`。用数学符号来表示就是：\n",
    "\n",
    "$\\boldsymbol{\\hat{y}} = X \\boldsymbol{w} + b$\n",
    "\n",
    "并最小化所有数据点上的平方误差\n",
    "\n",
    "$\\sum_{i=1}^n (\\hat{y}_i-y_i)^2$.\n",
    "\n",
    "你可能会对我们把古老的线性回归作为深度学习的一个样例表示奇怪。实际上线性模型是最简单、但也是最有用的神经网络。一个神经网络就是一个由节点（神经元）和有向边组成的集合。我们一般把一些节点组成层，每一层先从下面一层的节点获取输入，然后输出给上面的层使用。要计算一个节点值，我们需要将输入节点值做加权和（权数值即 `w`），然后再加上一个激活函数（activation function）。对于线性回归而言，它是一个两层神经网络，其中第一层是（下图橙色点）输入，每个节点对应输入数据点的一个维度，第二层是单输出节点（下图绿色点），它使用身份函数$(f(x)=x)$作为激活函数。\n",
    "![image.png](http://zh.gluon.ai/_images/onelayer.png)\n",
    "\n",
    "\n",
    "### 准备数据\n",
    "\n",
    "这里我们使用一个数据集来尽量简单地解释清楚，真实的模型是什么样的。具体来说，我们使用如下方法来生成数据；随机数值 `X[i]`，其相应的标注为 `y[i]`：\n",
    "\n",
    "`y_{i} = 2 * X_{[i][0]} - 3.4 * X_{[i][1]} + 4.2 + noise`\n",
    "\n",
    "$y = X \\cdot w + b + \\eta, \\quad \\text{for } \\eta \\sim \\mathcal{N}(0,\\sigma^2)$\n",
    "\n",
    "这里噪音服从均值0和标准差为0.01的正态分布。\n"
   ]
  },
  {
   "cell_type": "code",
   "execution_count": 1,
   "metadata": {},
   "outputs": [
    {
     "name": "stdout",
     "output_type": "stream",
     "text": [
      "[[-1.56706345 -0.92067973]\n",
      " [ 0.61111741  1.8545143 ]\n",
      " [-0.34182813  2.03792356]\n",
      " ...\n",
      " [-0.15859796  0.01381681]\n",
      " [-2.03457348  0.4859532 ]\n",
      " [-1.49206398  1.85054373]]\n",
      "(1000,)\n"
     ]
    }
   ],
   "source": [
    "import numpy as np\n",
    "\n",
    "#num_inputs:特征维度\n",
    "num_inputs = 2\n",
    "#num_examples:样本个数\n",
    "num_examples = 1000\n",
    "\n",
    "true_w = np.array([2, -3.4]).T\n",
    "true_b = 4.2\n",
    "\n",
    "X = np.random.normal(0, 1, size=(num_examples, num_inputs))\n",
    "print X\n",
    "y = np.matmul(X, true_w) + true_b\n",
    "y += .01 * np.random.normal(0, 1, size=y.shape)\n",
    "print y.shape"
   ]
  },
  {
   "cell_type": "markdown",
   "metadata": {},
   "source": [
    "如果有兴趣，可以使用安装包中已包括的 Python 绘图包 matplotlib，生成第二个特征值 ``(X[:, 1])`` 和目标值 Y 的散点图，更直观地观察两者间的关系。"
   ]
  },
  {
   "cell_type": "code",
   "execution_count": 2,
   "metadata": {},
   "outputs": [
    {
     "data": {
      "text/plain": [
       "<matplotlib.figure.Figure at 0x1080de3d0>"
      ]
     },
     "metadata": {},
     "output_type": "display_data"
    }
   ],
   "source": [
    "import matplotlib.pyplot as plt\n",
    "plt.scatter(X[:, 1], y)\n",
    "plt.show()"
   ]
  },
  {
   "cell_type": "markdown",
   "metadata": {},
   "source": [
    "### 数据读取\n",
    "当我们开始训练神经网络的时候，我们需要不断读取数据块。这里我们定义一个函数它每次返回batch_size个随机的样本和对应的目标。我们通过python的yield来构造一个迭代器。"
   ]
  },
  {
   "cell_type": "code",
   "execution_count": 3,
   "metadata": {},
   "outputs": [],
   "source": [
    "import random\n",
    "def data_iter(batch_size, num_epochs):\n",
    "    # 产生一个随机索引\n",
    "    idx = list(range(num_examples*num_epochs))\n",
    "    random.shuffle(idx)\n",
    "    batch_X = []\n",
    "    batch_y = []\n",
    "    for i in idx:\n",
    "        i %= num_examples\n",
    "        batch_X.append(X[i])\n",
    "        batch_y.append(y[i])\n",
    "        if len(batch_X) == batch_size:\n",
    "            yield np.array(batch_X), np.array(batch_y)\n",
    "            batch_X = []\n",
    "            batch_y = []"
   ]
  },
  {
   "cell_type": "markdown",
   "metadata": {},
   "source": [
    "下面代码读取第一个随机数据块"
   ]
  },
  {
   "cell_type": "code",
   "execution_count": 4,
   "metadata": {},
   "outputs": [
    {
     "name": "stdout",
     "output_type": "stream",
     "text": [
      "(array([[-0.42860799,  0.77403293]]), array([0.73327593]))\n",
      "(1, 2)\n",
      "(1,)\n"
     ]
    }
   ],
   "source": [
    "for data, label in data_iter(1, 1):\n",
    "    print(data, label)\n",
    "    print data.shape\n",
    "    print label.shape\n",
    "    break"
   ]
  },
  {
   "cell_type": "markdown",
   "metadata": {},
   "source": [
    "### 初始化模型参数\n",
    "下面我们随机初始化模型参数"
   ]
  },
  {
   "cell_type": "code",
   "execution_count": 5,
   "metadata": {},
   "outputs": [],
   "source": [
    "#目的是通过X和y来拟合参数(w, b)\n",
    "import tensorflow as tf\n",
    "def weight_variable(shape):\n",
    "    \"\"\"Create a weight variable with appropriate initialization.\"\"\"\n",
    "    #initial = tf.truncated_normal(shape, stddev=0.1)\n",
    "    with tf.name_scope('weights'):\n",
    "        initial = tf.random_normal_initializer(mean=0.0, stddev=1.0, seed=None, dtype=tf.float32)\n",
    "#    initial =  tf.zeros_initializer(dtype=tf.float32)\n",
    "    return tf.Variable(initial(shape))\n",
    "\n",
    "def bias_variable(shape):\n",
    "    \"\"\"Create a bias variable with appropriate initialization.\"\"\"\n",
    "    with tf.name_scope('bias'):\n",
    "        initial = tf.constant(0.1, shape=shape)\n",
    "    return tf.Variable(initial)"
   ]
  },
  {
   "cell_type": "markdown",
   "metadata": {},
   "source": [
    "### 定义模型\n",
    "线性模型就是将输入和模型的权重（w）相乘，再加上偏移（b）：\n",
    "\n"
   ]
  },
  {
   "cell_type": "code",
   "execution_count": 6,
   "metadata": {},
   "outputs": [],
   "source": [
    "def net(input_tensor, input_dim, output_dim):\n",
    "    weights = weight_variable((input_dim, output_dim))\n",
    "    bias = bias_variable([output_dim])\n",
    "    return tf.matmul(input_tensor, weights) + bias, weights, bias"
   ]
  },
  {
   "cell_type": "markdown",
   "metadata": {},
   "source": [
    "### 损失函数\n",
    "我们使用常见的平方误差来衡量预测目标和真实目标之间的差距。"
   ]
  },
  {
   "cell_type": "code",
   "execution_count": 7,
   "metadata": {},
   "outputs": [],
   "source": [
    "def mse(predict, gt_tensor):\n",
    "    #return tf.losses.mean_squared_error(tf.squeeze(predict), gt_tensor)\n",
    "    return tf.reduce_mean(tf.square(tf.squeeze(predict) - gt_tensor))\n"
   ]
  },
  {
   "cell_type": "markdown",
   "metadata": {},
   "source": [
    "### 训练\n",
    "现在我们可以开始训练了。训练通常需要迭代数据数次，在这里使用epochs表示迭代总次数；一次迭代中，我们每次随机读取固定数个数据点，计算梯度并更新模型参数。\n",
    "\n"
   ]
  },
  {
   "cell_type": "code",
   "execution_count": null,
   "metadata": {},
   "outputs": [],
   "source": [
    "# 模型函数\n",
    "def real_fn(X):\n",
    "    return np.matmul(X, true_w) + true_b\n",
    "# 绘制损失随训练次数降低的折线图，以及预测值和真实值的散点图\n",
    "def plot(losses, X, predict, sample_size=100):\n",
    "    xs = list(range(len(losses)))\n",
    "    f, (fg1, fg2) = plt.subplots(1, 2)\n",
    "    fg1.set_title('Loss during training')\n",
    "    fg1.plot(xs, losses, '-r')\n",
    "    fg2.set_title('Estimated vs real function')\n",
    "    fg2.plot(X[:sample_size, 1],\n",
    "             predict[:sample_size, :], 'or', label='Estimated')\n",
    "    fg2.plot(X[:sample_size, 1],\n",
    "             real_fn(X[:sample_size, :]), '*g', label='Real')\n",
    "    fg2.legend()\n",
    "    plt.show()"
   ]
  },
  {
   "cell_type": "code",
   "execution_count": null,
   "metadata": {},
   "outputs": [
    {
     "name": "stdout",
     "output_type": "stream",
     "text": [
      "--Return--\n",
      "> <ipython-input-9-f025e5e8c449>(9)<module>()->None\n",
      "-> pdb.set_trace()\n",
      "(Pdb) weights\n",
      "<tf.Variable 'Variable:0' shape=(2, 1) dtype=float32_ref>\n",
      "(Pdb) X_train.shape\n",
      "*** NameError: name 'X_train' is not defined\n"
     ]
    }
   ],
   "source": [
    "import pdb\n",
    "learning_rate = 1e-2\n",
    "num_epochs = 100\n",
    "batch_size = 100\n",
    "losses = []\n",
    "input_placeholder = tf.placeholder(tf.float32, [None, num_inputs])\n",
    "gt_placeholder = tf.placeholder(tf.float32, [None])\n",
    "predict, weights, bias = net(input_placeholder, num_inputs, 1)\n",
    "pdb.set_trace()\n",
    "loss = mse(predict, gt_placeholder)\n",
    "var_list = tf.trainable_variables()\n",
    "for var in var_list:\n",
    "    print var.op.name\n",
    "#train_op = tf.train.GradientDescentOptimizer(learning_rate).minimize(mse)\n",
    "init = tf.global_variables_initializer()\n",
    "sess = tf.InteractiveSession()\n",
    "sess.run(init)\n",
    "\n",
    "for i,  data in enumerate(data_iter(batch_size, num_epochs)):\n",
    "    batch_X, batch_y = data\n",
    "    feed_dict = {input_placeholder: batch_X, gt_placeholder: batch_y}\n",
    "    mse_, _ = sess.run([mse, train_op], feed_dict=feed_dict)\n",
    "    if (i + 1) % 100 == 0:\n",
    "        predict_, mse_, weights_, bias_ = sess.run([predict, mse, weights, bias], feed_dict={input_placeholder: X, gt_placeholder: y})\n",
    "        losses.append(mse_)\n",
    "        print(\"batch %s. Average loss: %f\" % (i, mse_/num_examples))\n",
    "        plot(losses, X, np.array(predict_))\n",
    "        \n",
    "\n",
    "print (weights_, bias_)\n",
    "print (true_w, true_b)"
   ]
  },
  {
   "cell_type": "code",
   "execution_count": null,
   "metadata": {},
   "outputs": [],
   "source": []
  }
 ],
 "metadata": {
  "kernelspec": {
   "display_name": "Python 2",
   "language": "python",
   "name": "python2"
  },
  "language_info": {
   "codemirror_mode": {
    "name": "ipython",
    "version": 2
   },
   "file_extension": ".py",
   "mimetype": "text/x-python",
   "name": "python",
   "nbconvert_exporter": "python",
   "pygments_lexer": "ipython2",
   "version": "2.7.14"
  }
 },
 "nbformat": 4,
 "nbformat_minor": 2
}
