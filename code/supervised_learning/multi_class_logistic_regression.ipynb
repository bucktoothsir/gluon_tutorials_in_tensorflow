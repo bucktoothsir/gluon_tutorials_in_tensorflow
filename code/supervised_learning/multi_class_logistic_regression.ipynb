{
 "cells": [
  {
   "cell_type": "markdown",
   "metadata": {},
   "source": [
    "## 多类逻辑回归 — 从0开始\n",
    "对应的gluon教程http://zh.gluon.ai/chapter_supervised-learning/softmax-regression-scratch.html\n",
    "\n",
    "如果你读过了从0开始的线性回归，那么最难的部分已经过去了。现在你知道如果读取和操作数据，如何构造目标函数和对它求导，如果定义损失函数，模型和求解。\n",
    "\n",
    "下面我们来看一个稍微有意思一点的问题，如何使用多类逻辑回归进行多类分类。这个模型跟线性回归的主要区别在于输出节点从一个变成了多个。\n",
    "![image.png](http://zh.gluon.ai/_images/simple-softmax-net.png)\n",
    "\n",
    "### 获取数据\n",
    "演示这个模型的常见数据集是手写数字识别MNIST，它长这个样子。\n",
    "![image.png](https://raw.githubusercontent.com/dmlc/web-data/master/mxnet/example/mnist.png)\n",
    "\n",
    "这里我们用了一个稍微复杂点的数据集，它跟MNIST非常像，但是内容不再是分类数字，而是服饰。gluon可以用过data.vision模块自动下载这个数据。但是因为我用tensorflow，所以在https://github.com/zalandoresearch/fashion-mnist 手动下载了数据。\n",
    "\n",
    "分别是：\n",
    "\n",
    "train-images-idx3-ubyte.gz\t\n",
    "train-labels-idx1-ubyte.gz\t\n",
    "t10k-images-idx3-ubyte.gz\t\n",
    "t10k-labels-idx1-ubyte.gz\t\n",
    "\n",
    "然后用tensorflow定义好的接口读取上面的文件"
   ]
  },
  {
   "cell_type": "code",
   "execution_count": 1,
   "metadata": {},
   "outputs": [
    {
     "name": "stdout",
     "output_type": "stream",
     "text": [
      "Extracting ../data/fashion_mnist/train-images-idx3-ubyte.gz\n",
      "Extracting ../data/fashion_mnist/train-labels-idx1-ubyte.gz\n",
      "Extracting ../data/fashion_mnist/t10k-images-idx3-ubyte.gz\n",
      "Extracting ../data/fashion_mnist/t10k-labels-idx1-ubyte.gz\n",
      "(60000, 28, 28, 1)\n",
      "[0. 0. 0. 0. 0. 0. 0. 0. 0. 1.]\n",
      "(10000, 28, 28, 1)\n"
     ]
    }
   ],
   "source": [
    "from tensorflow.contrib.learn.python.learn.datasets.mnist import extract_images, extract_labels\n",
    "from tensorflow.python.platform import gfile\n",
    "\n",
    "train_image_file = '../../data/fashion_mnist/train-images-idx3-ubyte.gz'\n",
    "train_labels_file = '../../data/fashion_mnist/train-labels-idx1-ubyte.gz'\n",
    "test_image_file = '../../data/fashion_mnist/t10k-images-idx3-ubyte.gz'\n",
    "test_labels_file = '../../data/fashion_mnist/t10k-labels-idx1-ubyte.gz'\n",
    "\n",
    "with gfile.Open(train_image_file, 'rb') as f:\n",
    "    train_images = extract_images(f)\n",
    "\n",
    "with gfile.Open(train_labels_file, 'rb') as f:\n",
    "    train_labels = extract_labels(f, one_hot=True, num_classes=10)\n",
    "\n",
    "with gfile.Open(test_image_file, 'rb') as f:\n",
    "    test_images = extract_images(f)\n",
    "    \n",
    "with gfile.Open(test_labels_file, 'rb') as f:\n",
    "    test_labels = extract_labels(f, one_hot=True, num_classes=10)\n",
    "\n",
    "print train_images.shape\n",
    "print train_labels[0]\n",
    "\n",
    "print test_images.shape"
   ]
  },
  {
   "cell_type": "markdown",
   "metadata": {},
   "source": [
    "我们画出前几个样本的内容，和对应的文本标号\n",
    "\n"
   ]
  },
  {
   "cell_type": "code",
   "execution_count": 2,
   "metadata": {},
   "outputs": [
    {
     "data": {
      "text/plain": [
       "<matplotlib.figure.Figure at 0x11bf3c090>"
      ]
     },
     "metadata": {},
     "output_type": "display_data"
    },
    {
     "name": "stdout",
     "output_type": "stream",
     "text": [
      "['ankle boot', 't-shirt', 't-shirt', 'dress,', 't-shirt', 'pullover', 'sneaker', 'pullover', 'sandal']\n"
     ]
    }
   ],
   "source": [
    "import matplotlib.pyplot as plt\n",
    "import numpy as np\n",
    "\n",
    "def show_images(images):\n",
    "    n = images.shape[0]\n",
    "    _, figs = plt.subplots(1, n, figsize=(15, 15))\n",
    "    for i in range(n):\n",
    "        figs[i].imshow(images[i].reshape((28, 28)))\n",
    "        #隐藏x,y坐标\n",
    "        figs[i].axes.get_xaxis().set_visible(False)\n",
    "        figs[i].axes.get_yaxis().set_visible(False)\n",
    "    plt.show()\n",
    "\n",
    "def get_text_labels(label):\n",
    "    text_labels = [\n",
    "        't-shirt', 'trouser', 'pullover', 'dress,', 'coat',\n",
    "        'sandal', 'shirt', 'sneaker', 'bag', 'ankle boot'\n",
    "    ]\n",
    "    return [text_labels[int(i)] for i in label]\n",
    "\n",
    "data = train_images[0:9]\n",
    "label = np.argmax(train_labels,axis=1)[0:9]\n",
    "show_images(data)\n",
    "print(get_text_labels(label))"
   ]
  },
  {
   "cell_type": "markdown",
   "metadata": {},
   "source": [
    "### 数据读取\n",
    "虽然我们可以像前面那样通过yield来定义获取批量数据函数，原文使用了gluon.data的DataLoader函数，它每次yield一个批量。在tensorflow中同样可以使用定义好的接口，创建Dataset对象。"
   ]
  },
  {
   "cell_type": "code",
   "execution_count": 3,
   "metadata": {},
   "outputs": [],
   "source": [
    "from tensorflow.contrib.learn.python.learn.datasets.mnist import DataSet\n",
    "train_dataset = DataSet(train_images, train_labels, one_hot=True)"
   ]
  },
  {
   "cell_type": "markdown",
   "metadata": {},
   "source": [
    "### 初始化模型参数\n",
    "跟线性模型一样，每个样本会表示成一个向量。我们这里数据是 28 * 28 大小的图片，所以输入向量的长度是 28 * 28 = 784。因为我们要做多类分类，我们需要对每一个类预测这个样本属于此类的概率。因为这个数据集有10个类型，所以输出应该是长为10的向量。这样，我们需要的权重将是一个 784 * 10 的矩阵："
   ]
  },
  {
   "cell_type": "code",
   "execution_count": 4,
   "metadata": {},
   "outputs": [],
   "source": [
    "import tensorflow as tf\n",
    "num_inputs = 784\n",
    "num_outputs = 10\n",
    "\n",
    "with tf.name_scope('lr'):\n",
    "    W = tf.Variable(tf.random_normal([num_inputs, num_outputs], mean=0.0, stddev=1.0, seed=None, dtype=tf.float32), name='weights')\n",
    "    b = tf.Variable(tf.constant(0.1, shape=[num_outputs]), name='bias')\n",
    "    #W = tf.Variable(tf.zeros([784, 10]), name='weights')\n",
    "    #b = tf.Variable(tf.zeros([10]), name='bias')\n"
   ]
  },
  {
   "cell_type": "markdown",
   "metadata": {},
   "source": [
    "### 定义模型\n",
    "在线性回归教程里，我们只需要输出一个标量$yhat$使得尽可能的靠近目标值。但在这里的分类里，我们需要属于每个类别的概率。这些概率需要值为正，而且加起来等于1. 而如果简单的使用 $\\boldsymbol{\\hat y} = \\boldsymbol{W} \\boldsymbol{x}$, 我们不能保证这一点。一个通常的做法是通过softmax函数来将任意的输入归一化成合法的概率值。"
   ]
  },
  {
   "cell_type": "code",
   "execution_count": 5,
   "metadata": {},
   "outputs": [],
   "source": [
    "def np_softmax(X):\n",
    "    eps = 1e-18\n",
    "    exp = np.exp(X + eps)\n",
    "    # 假设exp是矩阵，这里对行进行求和，并要求保留axis 1，\n",
    "    # 就是返回 (nrows, 1) 形状的矩阵\n",
    "    partition = np.sum(exp, axis=1, keepdims=True)\n",
    "    return exp / partition\n",
    "\n",
    "def tf_softmax(X):\n",
    "    eps=1e-18\n",
    "    exp = tf.exp(X)\n",
    "    # 假设exp是矩阵，这里对行进行求和，并要求保留axis 1，\n",
    "    # 就是返回 (nrows, 1) 形状的矩阵\n",
    "    partition = tf.reduce_sum(exp, axis=1, keep_dims=True)\n",
    "    return exp / partition"
   ]
  },
  {
   "cell_type": "markdown",
   "metadata": {},
   "source": [
    "可以看到，对于随机输入，我们将每个元素变成了非负数，而且每一行加起来为1。\n",
    "\n"
   ]
  },
  {
   "cell_type": "code",
   "execution_count": 6,
   "metadata": {},
   "outputs": [
    {
     "name": "stdout",
     "output_type": "stream",
     "text": [
      "[[-1.11481442  1.33921703  2.73831238 -1.30705263 -0.52536617]\n",
      " [ 2.69731241  1.12879095 -0.40406067  0.59043229  0.59941436]]\n",
      "[[0.01602474 0.18645044 0.75541013 0.01322218 0.02889251]\n",
      " [0.66770325 0.13911798 0.03003823 0.08120394 0.0819366 ]]\n"
     ]
    }
   ],
   "source": [
    "import numpy as np\n",
    "X = np.random.normal(size=(2,5))\n",
    "print X\n",
    "X_prob = np_softmax(X)\n",
    "print(X_prob)\n",
    "#print(X_prob.sum(axis=1))"
   ]
  },
  {
   "cell_type": "markdown",
   "metadata": {},
   "source": [
    "现在我们可以定义模型了：\n",
    "\n"
   ]
  },
  {
   "cell_type": "code",
   "execution_count": 7,
   "metadata": {},
   "outputs": [],
   "source": [
    "def net(X, weights, bias):\n",
    "    z = tf.matmul(X, weights) + bias\n",
    "    return tf_softmax(z), z\n",
    "    #return z"
   ]
  },
  {
   "cell_type": "markdown",
   "metadata": {},
   "source": [
    "### 交叉熵损失函数\n",
    "我们需要定义一个针对预测为概率值的损失函数。其中最常见的是交叉熵损失函数，它将两个概率分布的负交叉熵作为目标值，最小化这个值等价于最大化这两个概率的相似度。\n",
    "\n",
    "具体来说，我们先将真实标号表示成一个概率分布，例如如果``y=1``，那么其对应的分布就是一个除了第二个元素为1其他全为0的长为10的向量，也就是 `yvec=[0, 1, 0, 0, 0, 0, 0, 0, 0, 0]`。那么交叉熵就是`yvec[0]*log(yhat[0])+...+yvec[n]*log(yhat[n])`。注意到yvec里面只有一个1，那么前面等价于`log(yhat[y])`。所以我们可以定义这个损失函数了。"
   ]
  },
  {
   "cell_type": "code",
   "execution_count": 8,
   "metadata": {},
   "outputs": [],
   "source": [
    "def cross_entropy(yhat, y):\n",
    "    #yhat和y都是batch_size*num_classes的向量\n",
    "    eps = 1e-18\n",
    "    y = tf.cast(y, tf.float32)\n",
    "    return tf.reduce_mean(-y * tf.log(yhat+eps))"
   ]
  },
  {
   "cell_type": "markdown",
   "metadata": {},
   "source": [
    "### 计算精度\n",
    "给定一个概率输出，我们将预测概率最高的那个类作为预测的类，然后通过比较真实标号我们可以计算精度："
   ]
  },
  {
   "cell_type": "code",
   "execution_count": 9,
   "metadata": {},
   "outputs": [],
   "source": [
    "def accuracy(output, label):\n",
    "    #output, label都是batch_size*1的向量\n",
    "    return tf.reduce_mean(tf.cast(tf.equal(tf.argmax(output, 1),tf.argmax(label, 1)), tf.float32))"
   ]
  },
  {
   "cell_type": "markdown",
   "metadata": {},
   "source": [
    "### 训练\n",
    "训练代码跟前面的线性回归非常相似：\n",
    "\n"
   ]
  },
  {
   "cell_type": "code",
   "execution_count": 16,
   "metadata": {},
   "outputs": [
    {
     "name": "stdout",
     "output_type": "stream",
     "text": [
      "lr/weights\n",
      "lr/bias\n",
      "Epoch 0, Batch 0, Loss: 1.372785, Train acc 0.171875 \n",
      "Epoch 0, Batch 100, Loss: 0.222798, Train acc 0.546875 \n",
      "Epoch 0, Batch 200, Loss: 0.279642, Train acc 0.468750 \n",
      "Epoch 0, Batch 300, Loss: 0.216706, Train acc 0.531250 \n",
      "Epoch 0, Batch 400, Loss: 0.139442, Train acc 0.750000 \n",
      "Epoch 0, Batch 500, Loss: 0.103321, Train acc 0.656250 \n",
      "Epoch 0, Batch 600, Loss: 0.107369, Train acc 0.750000 \n",
      "Epoch 0, Batch 700, Loss: 0.093431, Train acc 0.750000 \n",
      "Epoch 0, Batch 800, Loss: 0.136332, Train acc 0.765625 \n",
      "Epoch 0, Batch 900, Loss: 0.091566, Train acc 0.796875 \n",
      "Epoch 0, Test Loss: 0.138095, Test acc 0.697000 \n",
      "Epoch 1, Batch 0, Loss: 0.120773, Train acc 0.687500 \n",
      "Epoch 1, Batch 100, Loss: 0.096433, Train acc 0.718750 \n",
      "Epoch 1, Batch 200, Loss: 0.096708, Train acc 0.734375 \n",
      "Epoch 1, Batch 300, Loss: 0.107570, Train acc 0.687500 \n",
      "Epoch 1, Batch 400, Loss: 0.075544, Train acc 0.765625 \n",
      "Epoch 1, Batch 500, Loss: 0.146705, Train acc 0.718750 \n",
      "Epoch 1, Batch 600, Loss: 0.117502, Train acc 0.796875 \n",
      "Epoch 1, Batch 700, Loss: 0.132929, Train acc 0.671875 \n",
      "Epoch 1, Batch 800, Loss: 0.113375, Train acc 0.718750 \n",
      "Epoch 1, Batch 900, Loss: 0.098504, Train acc 0.750000 \n",
      "Epoch 1, Test Loss: 0.112316, Test acc 0.740200 \n",
      "Epoch 2, Batch 0, Loss: 0.089768, Train acc 0.828125 \n",
      "Epoch 2, Batch 100, Loss: 0.087423, Train acc 0.750000 \n",
      "Epoch 2, Batch 200, Loss: 0.134769, Train acc 0.703125 \n",
      "Epoch 2, Batch 300, Loss: 0.105854, Train acc 0.750000 \n",
      "Epoch 2, Batch 400, Loss: 0.078306, Train acc 0.781250 \n",
      "Epoch 2, Batch 500, Loss: 0.077610, Train acc 0.765625 \n",
      "Epoch 2, Batch 600, Loss: 0.110254, Train acc 0.765625 \n",
      "Epoch 2, Batch 700, Loss: 0.101377, Train acc 0.750000 \n",
      "Epoch 2, Batch 800, Loss: 0.085824, Train acc 0.765625 \n",
      "Epoch 2, Batch 900, Loss: 0.044902, Train acc 0.828125 \n",
      "Epoch 2, Test Loss: 0.100735, Test acc 0.764900 \n",
      "Epoch 3, Batch 0, Loss: 0.119468, Train acc 0.750000 \n",
      "Epoch 3, Batch 100, Loss: 0.083641, Train acc 0.781250 \n",
      "Epoch 3, Batch 200, Loss: 0.091307, Train acc 0.812500 \n",
      "Epoch 3, Batch 300, Loss: 0.088998, Train acc 0.734375 \n",
      "Epoch 3, Batch 400, Loss: 0.075029, Train acc 0.812500 \n",
      "Epoch 3, Batch 500, Loss: 0.104040, Train acc 0.765625 \n",
      "Epoch 3, Batch 600, Loss: 0.077661, Train acc 0.828125 \n",
      "Epoch 3, Batch 700, Loss: 0.134442, Train acc 0.656250 \n",
      "Epoch 3, Batch 800, Loss: 0.103993, Train acc 0.781250 \n",
      "Epoch 3, Batch 900, Loss: 0.064648, Train acc 0.828125 \n",
      "Epoch 3, Test Loss: 0.093536, Test acc 0.765800 \n",
      "Epoch 4, Batch 0, Loss: 0.102285, Train acc 0.703125 \n",
      "Epoch 4, Batch 100, Loss: 0.063098, Train acc 0.796875 \n",
      "Epoch 4, Batch 200, Loss: 0.106519, Train acc 0.750000 \n",
      "Epoch 4, Batch 300, Loss: 0.078777, Train acc 0.781250 \n",
      "Epoch 4, Batch 400, Loss: 0.053763, Train acc 0.828125 \n",
      "Epoch 4, Batch 500, Loss: 0.061264, Train acc 0.812500 \n",
      "Epoch 4, Batch 600, Loss: 0.081480, Train acc 0.796875 \n",
      "Epoch 4, Batch 700, Loss: 0.022768, Train acc 0.906250 \n",
      "Epoch 4, Batch 800, Loss: 0.091290, Train acc 0.734375 \n",
      "Epoch 4, Batch 900, Loss: 0.083839, Train acc 0.765625 \n",
      "Epoch 4, Test Loss: 0.088701, Test acc 0.778000 \n",
      "Epoch 5, Batch 0, Loss: 0.076872, Train acc 0.859375 \n",
      "Epoch 5, Batch 100, Loss: 0.085676, Train acc 0.812500 \n",
      "Epoch 5, Batch 200, Loss: 0.081352, Train acc 0.750000 \n",
      "Epoch 5, Batch 300, Loss: 0.069937, Train acc 0.781250 \n",
      "Epoch 5, Batch 400, Loss: 0.063784, Train acc 0.843750 \n",
      "Epoch 5, Batch 500, Loss: 0.070900, Train acc 0.703125 \n",
      "Epoch 5, Batch 600, Loss: 0.121284, Train acc 0.765625 \n",
      "Epoch 5, Batch 700, Loss: 0.120258, Train acc 0.765625 \n",
      "Epoch 5, Batch 800, Loss: 0.094245, Train acc 0.765625 \n",
      "Epoch 5, Batch 900, Loss: 0.082031, Train acc 0.796875 \n",
      "Epoch 5, Test Loss: 0.084938, Test acc 0.781700 \n",
      "Epoch 6, Batch 0, Loss: 0.076039, Train acc 0.750000 \n",
      "Epoch 6, Batch 100, Loss: 0.051686, Train acc 0.843750 \n",
      "Epoch 6, Batch 200, Loss: 0.047772, Train acc 0.859375 \n",
      "Epoch 6, Batch 300, Loss: 0.063086, Train acc 0.812500 \n",
      "Epoch 6, Batch 400, Loss: 0.042267, Train acc 0.875000 \n",
      "Epoch 6, Batch 500, Loss: 0.032848, Train acc 0.921875 \n",
      "Epoch 6, Batch 600, Loss: 0.095574, Train acc 0.687500 \n",
      "Epoch 6, Batch 700, Loss: 0.098550, Train acc 0.734375 \n",
      "Epoch 6, Batch 800, Loss: 0.043178, Train acc 0.875000 \n",
      "Epoch 6, Batch 900, Loss: 0.035668, Train acc 0.890625 \n",
      "Epoch 6, Test Loss: 0.081730, Test acc 0.782000 \n",
      "Epoch 7, Batch 0, Loss: 0.069564, Train acc 0.781250 \n",
      "Epoch 7, Batch 100, Loss: 0.071626, Train acc 0.796875 \n",
      "Epoch 7, Batch 200, Loss: 0.042460, Train acc 0.875000 \n",
      "Epoch 7, Batch 300, Loss: 0.062529, Train acc 0.796875 \n",
      "Epoch 7, Batch 400, Loss: 0.071238, Train acc 0.734375 \n",
      "Epoch 7, Batch 500, Loss: 0.082390, Train acc 0.703125 \n",
      "Epoch 7, Batch 600, Loss: 0.069008, Train acc 0.781250 \n",
      "Epoch 7, Batch 700, Loss: 0.072145, Train acc 0.796875 \n",
      "Epoch 7, Batch 800, Loss: 0.037558, Train acc 0.890625 \n",
      "Epoch 7, Batch 900, Loss: 0.076491, Train acc 0.859375 \n",
      "Epoch 7, Test Loss: 0.080639, Test acc 0.780100 \n",
      "Epoch 8, Batch 0, Loss: 0.086267, Train acc 0.765625 \n",
      "Epoch 8, Batch 100, Loss: 0.101311, Train acc 0.781250 \n",
      "Epoch 8, Batch 200, Loss: 0.047920, Train acc 0.890625 \n",
      "Epoch 8, Batch 300, Loss: 0.068502, Train acc 0.765625 \n",
      "Epoch 8, Batch 400, Loss: 0.063232, Train acc 0.781250 \n",
      "Epoch 8, Batch 500, Loss: 0.085556, Train acc 0.796875 \n",
      "Epoch 8, Batch 600, Loss: 0.134878, Train acc 0.703125 \n",
      "Epoch 8, Batch 700, Loss: 0.086517, Train acc 0.796875 \n",
      "Epoch 8, Batch 800, Loss: 0.081892, Train acc 0.765625 \n",
      "Epoch 8, Batch 900, Loss: 0.054457, Train acc 0.859375 \n",
      "Epoch 8, Test Loss: 0.074857, Test acc 0.795100 \n",
      "Epoch 9, Batch 0, Loss: 0.063883, Train acc 0.828125 \n",
      "Epoch 9, Batch 100, Loss: 0.059420, Train acc 0.828125 \n",
      "Epoch 9, Batch 200, Loss: 0.065991, Train acc 0.828125 \n",
      "Epoch 9, Batch 300, Loss: 0.078642, Train acc 0.812500 \n",
      "Epoch 9, Batch 400, Loss: 0.084807, Train acc 0.765625 \n",
      "Epoch 9, Batch 500, Loss: 0.070647, Train acc 0.859375 \n",
      "Epoch 9, Batch 600, Loss: 0.045565, Train acc 0.890625 \n",
      "Epoch 9, Batch 700, Loss: 0.073186, Train acc 0.781250 \n",
      "Epoch 9, Batch 800, Loss: 0.066234, Train acc 0.765625 \n",
      "Epoch 9, Batch 900, Loss: 0.091640, Train acc 0.750000 \n",
      "Epoch 9, Test Loss: 0.074083, Test acc 0.798500 \n",
      "Epoch 10, Batch 0, Loss: 0.079375, Train acc 0.765625 \n",
      "Epoch 10, Batch 100, Loss: 0.068691, Train acc 0.843750 \n",
      "Epoch 10, Batch 200, Loss: 0.063178, Train acc 0.796875 \n",
      "Epoch 10, Batch 300, Loss: 0.051483, Train acc 0.890625 \n",
      "Epoch 10, Batch 400, Loss: 0.062313, Train acc 0.828125 \n",
      "Epoch 10, Batch 500, Loss: 0.073247, Train acc 0.812500 \n",
      "Epoch 10, Batch 600, Loss: 0.054828, Train acc 0.812500 \n",
      "Epoch 10, Batch 700, Loss: 0.090912, Train acc 0.796875 \n",
      "Epoch 10, Batch 800, Loss: 0.101459, Train acc 0.781250 \n",
      "Epoch 10, Batch 900, Loss: 0.035464, Train acc 0.875000 \n",
      "Epoch 10, Test Loss: 0.071588, Test acc 0.797400 \n",
      "Epoch 11, Batch 0, Loss: 0.054324, Train acc 0.859375 \n",
      "Epoch 11, Batch 100, Loss: 0.066816, Train acc 0.734375 \n",
      "Epoch 11, Batch 200, Loss: 0.091188, Train acc 0.828125 \n",
      "Epoch 11, Batch 300, Loss: 0.048325, Train acc 0.859375 \n",
      "Epoch 11, Batch 400, Loss: 0.084435, Train acc 0.750000 \n",
      "Epoch 11, Batch 500, Loss: 0.065808, Train acc 0.734375 \n",
      "Epoch 11, Batch 600, Loss: 0.046552, Train acc 0.875000 \n",
      "Epoch 11, Batch 700, Loss: 0.054409, Train acc 0.828125 \n",
      "Epoch 11, Batch 800, Loss: 0.049598, Train acc 0.843750 \n",
      "Epoch 11, Batch 900, Loss: 0.072792, Train acc 0.812500 \n",
      "Epoch 11, Test Loss: 0.070307, Test acc 0.802100 \n",
      "Epoch 12, Batch 0, Loss: 0.070543, Train acc 0.859375 \n",
      "Epoch 12, Batch 100, Loss: 0.068679, Train acc 0.796875 \n",
      "Epoch 12, Batch 200, Loss: 0.072709, Train acc 0.812500 \n",
      "Epoch 12, Batch 300, Loss: 0.067134, Train acc 0.828125 \n",
      "Epoch 12, Batch 400, Loss: 0.083909, Train acc 0.750000 \n",
      "Epoch 12, Batch 500, Loss: 0.062812, Train acc 0.859375 \n",
      "Epoch 12, Batch 600, Loss: 0.061121, Train acc 0.875000 \n",
      "Epoch 12, Batch 700, Loss: 0.061535, Train acc 0.796875 \n",
      "Epoch 12, Batch 800, Loss: 0.061697, Train acc 0.828125 \n",
      "Epoch 12, Batch 900, Loss: 0.097245, Train acc 0.734375 \n",
      "Epoch 12, Test Loss: 0.067972, Test acc 0.809200 \n",
      "Epoch 13, Batch 0, Loss: 0.052210, Train acc 0.828125 \n",
      "Epoch 13, Batch 100, Loss: 0.058247, Train acc 0.796875 \n",
      "Epoch 13, Batch 200, Loss: 0.060534, Train acc 0.859375 \n",
      "Epoch 13, Batch 300, Loss: 0.104667, Train acc 0.765625 \n",
      "Epoch 13, Batch 400, Loss: 0.054842, Train acc 0.796875 \n"
     ]
    },
    {
     "name": "stdout",
     "output_type": "stream",
     "text": [
      "Epoch 13, Batch 500, Loss: 0.051088, Train acc 0.859375 \n",
      "Epoch 13, Batch 600, Loss: 0.025355, Train acc 0.890625 \n",
      "Epoch 13, Batch 700, Loss: 0.077513, Train acc 0.796875 \n",
      "Epoch 13, Batch 800, Loss: 0.047322, Train acc 0.828125 \n",
      "Epoch 13, Batch 900, Loss: 0.071855, Train acc 0.765625 \n",
      "Epoch 13, Test Loss: 0.068268, Test acc 0.806400 \n",
      "Epoch 14, Batch 0, Loss: 0.026761, Train acc 0.921875 \n",
      "Epoch 14, Batch 100, Loss: 0.067886, Train acc 0.765625 \n",
      "Epoch 14, Batch 200, Loss: 0.060385, Train acc 0.796875 \n",
      "Epoch 14, Batch 300, Loss: 0.061576, Train acc 0.812500 \n",
      "Epoch 14, Batch 400, Loss: 0.061684, Train acc 0.859375 \n",
      "Epoch 14, Batch 500, Loss: 0.058525, Train acc 0.828125 \n",
      "Epoch 14, Batch 600, Loss: 0.056437, Train acc 0.828125 \n",
      "Epoch 14, Batch 700, Loss: 0.049873, Train acc 0.859375 \n",
      "Epoch 14, Batch 800, Loss: 0.045839, Train acc 0.812500 \n",
      "Epoch 14, Batch 900, Loss: 0.045442, Train acc 0.828125 \n",
      "Epoch 14, Test Loss: 0.065279, Test acc 0.811800 \n",
      "Epoch 15, Batch 0, Loss: 0.058781, Train acc 0.859375 \n",
      "Epoch 15, Batch 100, Loss: 0.039071, Train acc 0.828125 \n",
      "Epoch 15, Batch 200, Loss: 0.041284, Train acc 0.875000 \n",
      "Epoch 15, Batch 300, Loss: 0.074949, Train acc 0.781250 \n",
      "Epoch 15, Batch 400, Loss: 0.055335, Train acc 0.781250 \n",
      "Epoch 15, Batch 500, Loss: 0.071512, Train acc 0.781250 \n",
      "Epoch 15, Batch 600, Loss: 0.054444, Train acc 0.796875 \n",
      "Epoch 15, Batch 700, Loss: 0.073262, Train acc 0.781250 \n",
      "Epoch 15, Batch 800, Loss: 0.048789, Train acc 0.843750 \n",
      "Epoch 15, Batch 900, Loss: 0.034061, Train acc 0.875000 \n",
      "Epoch 15, Test Loss: 0.064587, Test acc 0.809500 \n",
      "Epoch 16, Batch 0, Loss: 0.033292, Train acc 0.859375 \n",
      "Epoch 16, Batch 100, Loss: 0.073514, Train acc 0.734375 \n",
      "Epoch 16, Batch 200, Loss: 0.033062, Train acc 0.906250 \n",
      "Epoch 16, Batch 300, Loss: 0.065820, Train acc 0.843750 \n",
      "Epoch 16, Batch 400, Loss: 0.031337, Train acc 0.890625 \n",
      "Epoch 16, Batch 500, Loss: 0.068636, Train acc 0.812500 \n",
      "Epoch 16, Batch 600, Loss: 0.040123, Train acc 0.843750 \n",
      "Epoch 16, Batch 700, Loss: 0.108739, Train acc 0.781250 \n",
      "Epoch 16, Batch 800, Loss: 0.070697, Train acc 0.828125 \n",
      "Epoch 16, Batch 900, Loss: 0.034563, Train acc 0.890625 \n",
      "Epoch 16, Test Loss: 0.063318, Test acc 0.814900 \n",
      "Epoch 17, Batch 0, Loss: 0.032553, Train acc 0.875000 \n",
      "Epoch 17, Batch 100, Loss: 0.042255, Train acc 0.859375 \n",
      "Epoch 17, Batch 200, Loss: 0.089075, Train acc 0.734375 \n",
      "Epoch 17, Batch 300, Loss: 0.057692, Train acc 0.812500 \n",
      "Epoch 17, Batch 400, Loss: 0.043185, Train acc 0.843750 \n",
      "Epoch 17, Batch 500, Loss: 0.070020, Train acc 0.812500 \n",
      "Epoch 17, Batch 600, Loss: 0.046314, Train acc 0.843750 \n",
      "Epoch 17, Batch 700, Loss: 0.049343, Train acc 0.843750 \n",
      "Epoch 17, Batch 800, Loss: 0.039879, Train acc 0.921875 \n",
      "Epoch 17, Batch 900, Loss: 0.046456, Train acc 0.859375 \n",
      "Epoch 17, Test Loss: 0.063025, Test acc 0.814400 \n",
      "Epoch 18, Batch 0, Loss: 0.079863, Train acc 0.843750 \n",
      "Epoch 18, Batch 100, Loss: 0.054337, Train acc 0.875000 \n",
      "Epoch 18, Batch 200, Loss: 0.035182, Train acc 0.843750 \n",
      "Epoch 18, Batch 300, Loss: 0.031596, Train acc 0.843750 \n",
      "Epoch 18, Batch 400, Loss: 0.083868, Train acc 0.875000 \n",
      "Epoch 18, Batch 500, Loss: 0.036728, Train acc 0.890625 \n",
      "Epoch 18, Batch 600, Loss: 0.071931, Train acc 0.765625 \n",
      "Epoch 18, Batch 700, Loss: 0.076888, Train acc 0.796875 \n",
      "Epoch 18, Batch 800, Loss: 0.109123, Train acc 0.718750 \n",
      "Epoch 18, Batch 900, Loss: 0.051791, Train acc 0.781250 \n",
      "Epoch 18, Test Loss: 0.062156, Test acc 0.818000 \n",
      "Epoch 19, Batch 0, Loss: 0.030878, Train acc 0.937500 \n",
      "Epoch 19, Batch 100, Loss: 0.036565, Train acc 0.859375 \n",
      "Epoch 19, Batch 200, Loss: 0.052765, Train acc 0.828125 \n",
      "Epoch 19, Batch 300, Loss: 0.052755, Train acc 0.781250 \n",
      "Epoch 19, Batch 400, Loss: 0.023401, Train acc 0.921875 \n",
      "Epoch 19, Batch 500, Loss: 0.062285, Train acc 0.812500 \n",
      "Epoch 19, Batch 600, Loss: 0.072207, Train acc 0.812500 \n",
      "Epoch 19, Batch 700, Loss: 0.078009, Train acc 0.859375 \n",
      "Epoch 19, Batch 800, Loss: 0.090809, Train acc 0.796875 \n",
      "Epoch 19, Batch 900, Loss: 0.051603, Train acc 0.828125 \n",
      "Epoch 19, Test Loss: 0.063254, Test acc 0.815100 \n"
     ]
    }
   ],
   "source": [
    "import sys\n",
    "import pdb\n",
    "\n",
    "num_epochs = 20\n",
    "batch_size = 64\n",
    "image_width = image_height = 28\n",
    "num_train_samples = 60000\n",
    "learning_rate = 1e0\n",
    "\n",
    "input_placeholder = tf.placeholder(tf.float32, [None, num_inputs])\n",
    "gt_placeholder = tf.placeholder(tf.int64, [None, num_outputs])\n",
    "softmax_predict, logit = net(input_placeholder, W, b)\n",
    "loss = cross_entropy(softmax_predict, gt_placeholder)\n",
    "acc = accuracy(softmax_predict, gt_placeholder)\n",
    "var_list = tf.trainable_variables()\n",
    "for var in var_list:\n",
    "    print var.op.name\n",
    "train_op = tf.train.GradientDescentOptimizer(learning_rate).minimize(loss)\n",
    "init = tf.global_variables_initializer()\n",
    "sess = tf.InteractiveSession()\n",
    "sess.run(init)\n",
    "train_loss = 0.\n",
    "train_acc = 0.\n",
    "test_images_reshape = np.reshape(np.squeeze(test_images), (test_images.shape[0], image_height*image_width))\n",
    "\n",
    "\n",
    "for epoch in range(num_epochs):\n",
    "    for batch in range(60000/batch_size):\n",
    "        data, label = train_dataset.next_batch(batch_size)\n",
    "        data = np.reshape(data, (batch_size, image_height*image_width))\n",
    "        feed_dict = {input_placeholder: data, gt_placeholder: label}\n",
    "        loss_, acc_, _ = sess.run([loss, acc, train_op], feed_dict=feed_dict)\n",
    "        if batch % 100 == 0:\n",
    "            print(\"Epoch %d, Batch %d, Loss: %f, Train acc %f \" % (epoch, batch, loss_, acc_))\n",
    "    test_loss_, test_acc_ = sess.run([loss, acc], feed_dict={input_placeholder: test_images_reshape / 255.0, gt_placeholder: test_labels})\n",
    "    print (\"Epoch %d, Test Loss: %f, Test acc %f \" % (epoch, test_loss_, test_acc_))\n",
    "    #test_acc = evaluate_accuracy(test_data, net)\n",
    "    "
   ]
  },
  {
   "cell_type": "markdown",
   "metadata": {},
   "source": [
    "### 预测\n",
    "训练完成后，现在我们可以演示对输入图片的标号的预测"
   ]
  },
  {
   "cell_type": "code",
   "execution_count": 18,
   "metadata": {},
   "outputs": [
    {
     "data": {
      "image/png": "[encoded data removed]",
      "text/plain": [
       "<matplotlib.figure.Figure at 0x1225361d0>"
      ]
     },
     "metadata": {},
     "output_type": "display_data"
    },
    {
     "name": "stdout",
     "output_type": "stream",
     "text": [
      "true labels\n",
      "['ankle boot', 'pullover', 'trouser', 'trouser', 'shirt', 'trouser', 'coat', 'shirt', 'sandal']\n",
      "predicted labels\n",
      "['ankle boot', 'pullover', 'trouser', 'trouser', 't-shirt', 'trouser', 'coat', 'coat', 'sandal']\n"
     ]
    }
   ],
   "source": [
    "data, label = test_images[0:9], test_labels[0:9]\n",
    "show_images(data)\n",
    "print('true labels')\n",
    "print(get_text_labels(np.argmax(label,axis=1)))\n",
    "\n",
    "predicted_softmax = sess.run([softmax_predict], feed_dict={input_placeholder:np.reshape(data/255.0,(9, image_height*image_width))})\n",
    "\n",
    "predicted_labels = np.argmax(predicted_softmax[0], axis=1)\n",
    "print('predicted labels')\n",
    "print(get_text_labels(predicted_labels))"
   ]
  }
 ],
 "metadata": {
  "kernelspec": {
   "display_name": "Python 2",
   "language": "python",
   "name": "python2"
  },
  "language_info": {
   "codemirror_mode": {
    "name": "ipython",
    "version": 2
   },
   "file_extension": ".py",
   "mimetype": "text/x-python",
   "name": "python",
   "nbconvert_exporter": "python",
   "pygments_lexer": "ipython2",
   "version": "2.7.14"
  }
 },
 "nbformat": 4,
 "nbformat_minor": 2
}
