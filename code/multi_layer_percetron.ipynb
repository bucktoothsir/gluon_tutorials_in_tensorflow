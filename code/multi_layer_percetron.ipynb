{
 "cells": [
  {
   "cell_type": "markdown",
   "metadata": {},
   "source": [
    "## 多层感知机 — 从0开始\n",
    "前面我们介绍了包括线性回归和多类逻辑回归的数个模型，它们的一个共同点是全是只含有一个输入层，一个输出层。这一节我们将介绍多层神经网络，就是包含至少一个隐含层的网络。\n",
    "\n",
    "### 数据获取\n",
    "我们继续使用FashionMNIST数据集。"
   ]
  },
  {
   "cell_type": "code",
   "execution_count": 1,
   "metadata": {},
   "outputs": [
    {
     "name": "stdout",
     "output_type": "stream",
     "text": [
      "Extracting ../data/fashion_mnist/train-images-idx3-ubyte.gz\n",
      "Extracting ../data/fashion_mnist/train-labels-idx1-ubyte.gz\n",
      "Extracting ../data/fashion_mnist/t10k-images-idx3-ubyte.gz\n",
      "Extracting ../data/fashion_mnist/t10k-labels-idx1-ubyte.gz\n",
      "(60000, 28, 28, 1)\n",
      "(60000, 10)\n"
     ]
    }
   ],
   "source": [
    "import sys\n",
    "\n",
    "sys.path.append('../utils')\n",
    "import utils\n",
    "\n",
    "data_dir = '../data/fashion_mnist'\n",
    "train_images, train_labels, test_images, test_labels = utils.load_data_fashion_mnist(data_dir, one_hot=True)\n",
    "print train_images.shape\n",
    "print train_labels.shape\n",
    "\n",
    "from tensorflow.contrib.learn.python.learn.datasets.mnist import DataSet\n",
    "train_dataset = DataSet(train_images, train_labels, one_hot=True)"
   ]
  },
  {
   "cell_type": "markdown",
   "metadata": {},
   "source": [
    "## 多层感知机\n",
    "多层感知机与前面介绍的多类逻辑回归非常类似，主要的区别是我们在输入层和输出层之间插入了一个到多个隐含层。\n",
    "\n",
    "![image.png](http://zh.gluon.ai/_images/multilayer-perceptron.png)\n",
    "这里我们定义一个只有一个隐含层的模型，这个隐含层输出256个节点。"
   ]
  },
  {
   "cell_type": "code",
   "execution_count": 2,
   "metadata": {},
   "outputs": [],
   "source": [
    "import tensorflow as tf\n",
    "\n",
    "# 输入图片是28*28\n",
    "num_inputs = 28*28\n",
    "num_outputs = 10\n",
    "\n",
    "num_hidden = 256\n",
    "    \n",
    "with tf.name_scope('multi_layer_percetron'):\n",
    "    W1 = tf.Variable(tf.random_normal([num_inputs, num_hidden], mean=0.0, stddev=1.0, seed=None, dtype=tf.float32), name='weights_hidden')\n",
    "    b1 = tf.Variable(tf.constant(0.1, shape=[num_hidden]), name='bias_hidden')\n",
    "    \n",
    "    W2 = tf.Variable(tf.random_normal([num_hidden, num_outputs], mean=0.0, stddev=1.0, seed=None, dtype=tf.float32), name='weights_output')\n",
    "    b2 = tf.Variable(tf.constant(0.1, shape=[num_outputs]), name='bias_output')\n",
    "    \n",
    "params = [W1, b1, W2, b2]"
   ]
  },
  {
   "cell_type": "markdown",
   "metadata": {},
   "source": [
    "### 激活函数\n",
    "如果我们就用线性操作符来构造多层神经网络，那么整个模型仍然只是一个线性函数。这是因为\n",
    "\n",
    "$\\hat{y} = X \\cdot W_1 \\cdot W_2 = X \\cdot W_3$\n",
    "\n",
    "这里$W_3 = W_1 \\cdot W_2$。为了让我们的模型可以拟合非线性函数，我们需要在层之间插入非线性的激活函数。这里我们使用ReLU\n",
    "\n",
    "$\\textrm{rel}u(x)=\\max(x, 0)$"
   ]
  },
  {
   "cell_type": "code",
   "execution_count": 3,
   "metadata": {},
   "outputs": [],
   "source": [
    "def relu(X):\n",
    "    return tf.maximum(X, 0)"
   ]
  },
  {
   "cell_type": "markdown",
   "metadata": {},
   "source": [
    "### 定义模型\n",
    "我们的模型就是将层（全连接）和激活函数（Relu）串起来："
   ]
  },
  {
   "cell_type": "code",
   "execution_count": 10,
   "metadata": {},
   "outputs": [],
   "source": [
    "def net(X, params):\n",
    "    X = tf.reshape(X, (-1, num_inputs))\n",
    "    h1 = relu(tf.matmul(X, params[0]) + params[1])\n",
    "    output = tf.matmul(h1, params[2]) + params[3]\n",
    "    return output"
   ]
  },
  {
   "cell_type": "markdown",
   "metadata": {},
   "source": [
    "### Softmax和交叉熵损失函数\n",
    "在多类Logistic回归里我们提到分开实现Softmax和交叉熵损失函数可能导致数值不稳定。这里我们直接使用tensorflow提供的函数\n",
    "\n",
    "### 训练\n",
    "训练跟之前一样。\n"
   ]
  },
  {
   "cell_type": "code",
   "execution_count": 14,
   "metadata": {},
   "outputs": [
    {
     "name": "stdout",
     "output_type": "stream",
     "text": [
      "Batch 0, Loss: 231.563156, Train acc 0.074219 \n",
      "Batch 100, Loss: 1.231710, Train acc 0.613281 \n",
      "Batch 200, Loss: 1.022023, Train acc 0.640625 \n",
      "Batch 300, Loss: 0.935736, Train acc 0.613281 \n",
      "Batch 400, Loss: 0.715150, Train acc 0.683594 \n",
      "Batch 500, Loss: 1.021528, Train acc 0.683594 \n",
      "Batch 600, Loss: 0.701485, Train acc 0.753906 \n",
      "Batch 700, Loss: 0.724109, Train acc 0.703125 \n",
      "Batch 800, Loss: 0.581032, Train acc 0.765625 \n",
      "Batch 900, Loss: 0.539920, Train acc 0.792969 \n",
      "Batch 1000, Loss: 0.602233, Train acc 0.781250 \n",
      "Batch 1100, Loss: 0.618764, Train acc 0.781250 \n",
      "Batch 1200, Loss: 0.724624, Train acc 0.785156 \n",
      "Batch 1300, Loss: 0.522713, Train acc 0.855469 \n",
      "Batch 1400, Loss: 0.537519, Train acc 0.781250 \n",
      "Batch 1500, Loss: 0.547305, Train acc 0.796875 \n",
      "Batch 1600, Loss: 0.590248, Train acc 0.757812 \n",
      "Batch 1700, Loss: 0.574816, Train acc 0.777344 \n",
      "Batch 1800, Loss: 0.491907, Train acc 0.789062 \n",
      "Batch 1900, Loss: 0.605241, Train acc 0.835938 \n",
      "Batch 2000, Loss: 0.487542, Train acc 0.796875 \n",
      "Batch 2100, Loss: 0.576667, Train acc 0.750000 \n",
      "Batch 2200, Loss: 0.438868, Train acc 0.832031 \n",
      "Batch 2300, Loss: 0.563106, Train acc 0.804688 \n",
      "Batch 2400, Loss: 0.494618, Train acc 0.828125 \n",
      "Batch 2500, Loss: 0.482576, Train acc 0.816406 \n",
      "Batch 2600, Loss: 0.438143, Train acc 0.828125 \n",
      "Batch 2700, Loss: 0.533488, Train acc 0.824219 \n",
      "Batch 2800, Loss: 0.608016, Train acc 0.730469 \n",
      "Batch 2900, Loss: 0.527222, Train acc 0.800781 \n",
      "Batch 3000, Loss: 0.634154, Train acc 0.808594 \n",
      "Batch 3100, Loss: 0.496597, Train acc 0.847656 \n",
      "Batch 3200, Loss: 0.404111, Train acc 0.832031 \n",
      "Batch 3300, Loss: 0.479208, Train acc 0.855469 \n",
      "Batch 3400, Loss: 0.611369, Train acc 0.765625 \n",
      "Batch 3500, Loss: 0.410751, Train acc 0.851562 \n",
      "Batch 3600, Loss: 0.396085, Train acc 0.851562 \n",
      "Batch 3700, Loss: 0.392675, Train acc 0.859375 \n",
      "Batch 3800, Loss: 0.456201, Train acc 0.851562 \n",
      "Batch 3900, Loss: 0.371701, Train acc 0.859375 \n",
      "Batch 4000, Loss: 0.489015, Train acc 0.808594 \n",
      "Batch 4100, Loss: 0.596469, Train acc 0.789062 \n",
      "Batch 4200, Loss: 0.311469, Train acc 0.878906 \n",
      "Batch 4300, Loss: 0.492137, Train acc 0.851562 \n",
      "Batch 4400, Loss: 0.502994, Train acc 0.824219 \n",
      "Batch 4500, Loss: 0.427845, Train acc 0.832031 \n",
      "Batch 4600, Loss: 0.480269, Train acc 0.847656 \n",
      "Batch 4700, Loss: 0.434958, Train acc 0.835938 \n",
      "Batch 4800, Loss: 0.458947, Train acc 0.839844 \n",
      "Batch 4900, Loss: 0.584472, Train acc 0.777344 \n",
      "Batch 5000, Loss: 0.438678, Train acc 0.832031 \n",
      "Batch 5100, Loss: 0.358169, Train acc 0.863281 \n",
      "Batch 5200, Loss: 0.410254, Train acc 0.839844 \n",
      "Batch 5300, Loss: 0.427899, Train acc 0.828125 \n",
      "Batch 5400, Loss: 0.456193, Train acc 0.859375 \n",
      "Batch 5500, Loss: 0.431059, Train acc 0.828125 \n",
      "Batch 5600, Loss: 0.356729, Train acc 0.859375 \n",
      "Batch 5700, Loss: 0.444693, Train acc 0.867188 \n",
      "Batch 5800, Loss: 0.384415, Train acc 0.863281 \n",
      "Batch 5900, Loss: 0.328642, Train acc 0.890625 \n",
      "Batch 6000, Loss: 0.370842, Train acc 0.851562 \n",
      "Batch 6100, Loss: 0.428416, Train acc 0.824219 \n",
      "Batch 6200, Loss: 0.388172, Train acc 0.847656 \n",
      "Batch 6300, Loss: 0.426771, Train acc 0.828125 \n",
      "Batch 6400, Loss: 0.507674, Train acc 0.867188 \n",
      "Batch 6500, Loss: 0.481185, Train acc 0.843750 \n",
      "Batch 6600, Loss: 0.484729, Train acc 0.812500 \n",
      "Batch 6700, Loss: 0.426253, Train acc 0.867188 \n",
      "Batch 6800, Loss: 0.359107, Train acc 0.882812 \n",
      "Batch 6900, Loss: 0.538891, Train acc 0.812500 \n",
      "Batch 7000, Loss: 0.316712, Train acc 0.906250 \n",
      "Batch 7100, Loss: 0.431713, Train acc 0.859375 \n",
      "Batch 7200, Loss: 0.316047, Train acc 0.871094 \n",
      "Batch 7300, Loss: 0.364671, Train acc 0.871094 \n",
      "Batch 7400, Loss: 0.347331, Train acc 0.863281 \n",
      "Batch 7500, Loss: 0.394987, Train acc 0.832031 \n",
      "Batch 7600, Loss: 0.353845, Train acc 0.875000 \n",
      "Batch 7700, Loss: 0.316082, Train acc 0.867188 \n",
      "Batch 7800, Loss: 0.405689, Train acc 0.871094 \n",
      "Batch 7900, Loss: 0.440301, Train acc 0.781250 \n",
      "Batch 8000, Loss: 0.475667, Train acc 0.839844 \n",
      "Batch 8100, Loss: 0.356150, Train acc 0.863281 \n",
      "Batch 8200, Loss: 0.486392, Train acc 0.835938 \n",
      "Batch 8300, Loss: 0.380833, Train acc 0.863281 \n",
      "Batch 8400, Loss: 0.411459, Train acc 0.859375 \n",
      "Batch 8500, Loss: 0.365035, Train acc 0.855469 \n",
      "Batch 8600, Loss: 0.486462, Train acc 0.843750 \n",
      "Batch 8700, Loss: 0.410570, Train acc 0.828125 \n",
      "Batch 8800, Loss: 0.424759, Train acc 0.871094 \n",
      "Batch 8900, Loss: 0.313342, Train acc 0.875000 \n",
      "Batch 9000, Loss: 0.312203, Train acc 0.882812 \n",
      "Batch 9100, Loss: 0.339690, Train acc 0.871094 \n",
      "Batch 9200, Loss: 0.275532, Train acc 0.902344 \n",
      "Batch 9300, Loss: 0.337368, Train acc 0.867188 \n",
      "Batch 9400, Loss: 0.341804, Train acc 0.878906 \n",
      "Batch 9500, Loss: 0.359549, Train acc 0.847656 \n",
      "Batch 9600, Loss: 0.402610, Train acc 0.878906 \n",
      "Batch 9700, Loss: 0.464824, Train acc 0.808594 \n",
      "Batch 9800, Loss: 0.412124, Train acc 0.867188 \n",
      "Batch 9900, Loss: 0.403978, Train acc 0.843750 \n",
      "Test Loss: 0.532327, Test acc 0.827900 \n"
     ]
    }
   ],
   "source": [
    "import numpy as np\n",
    "\n",
    "learning_rate = 1e0\n",
    "max_steps = 10000\n",
    "batch_size = 256\n",
    "\n",
    "input_placeholder = tf.placeholder(tf.float32, [None, num_inputs])\n",
    "gt_placeholder = tf.placeholder(tf.int64, [None, num_outputs])\n",
    "logits = net(input_placeholder, params)\n",
    "loss = tf.losses.softmax_cross_entropy(logits=logits,  onehot_labels=gt_placeholder)\n",
    "acc = utils.accuracy(logits, gt_placeholder)\n",
    "test_images_reshape = np.reshape(np.squeeze(test_images), (test_images.shape[0], num_inputs))\n",
    "\n",
    "train_op = tf.train.GradientDescentOptimizer(learning_rate).minimize(loss)\n",
    "init = tf.global_variables_initializer()\n",
    "sess = tf.InteractiveSession()\n",
    "sess.run(init)\n",
    "\n",
    "for step in range(max_steps):\n",
    "    data, label = train_dataset.next_batch(batch_size)\n",
    "    data = np.reshape(data, (batch_size, num_inputs))\n",
    "    feed_dict = {input_placeholder: data, gt_placeholder: label}\n",
    "    loss_, acc_, _ = sess.run([loss, acc, train_op], feed_dict=feed_dict)\n",
    "    if step % 100 == 0:\n",
    "        print(\"Batch %d, Loss: %f, Train acc %f \" % (step, loss_, acc_))\n",
    "\n",
    "test_loss_, test_acc_ = sess.run([loss, acc], feed_dict={input_placeholder: test_images_reshape / 255.0, gt_placeholder: test_labels})\n",
    "print (\"Test Loss: %f, Test acc %f \" % (test_loss_, test_acc_))\n",
    "\n"
   ]
  }
 ],
 "metadata": {
  "kernelspec": {
   "display_name": "Python 2",
   "language": "python",
   "name": "python2"
  },
  "language_info": {
   "codemirror_mode": {
    "name": "ipython",
    "version": 2
   },
   "file_extension": ".py",
   "mimetype": "text/x-python",
   "name": "python",
   "nbconvert_exporter": "python",
   "pygments_lexer": "ipython2",
   "version": "2.7.14"
  }
 },
 "nbformat": 4,
 "nbformat_minor": 2
}
