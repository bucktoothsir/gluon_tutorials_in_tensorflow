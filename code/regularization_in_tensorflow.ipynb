{
 "cells": [
  {
   "cell_type": "markdown",
   "metadata": {},
   "source": [
    "## 正则化 — 使用Gluon\n",
    "本章介绍如何使用Gluon的正则化来应对过拟合问题。\n",
    "实际上本文用的是tensorflow的正则化。\n",
    "\n",
    "### 高维线性回归数据集\n",
    "我们使用与上一节相同的高维线性回归为例来引入一个过拟合问题。"
   ]
  },
  {
   "cell_type": "code",
   "execution_count": 1,
   "metadata": {},
   "outputs": [],
   "source": [
    "import numpy as np\n",
    "\n",
    "num_train = 20\n",
    "num_test = 100\n",
    "# 特征维数\n",
    "num_inputs = 200"
   ]
  },
  {
   "cell_type": "markdown",
   "metadata": {},
   "source": [
    "### 生成数据集\n",
    "这里定义模型真实参数。"
   ]
  },
  {
   "cell_type": "code",
   "execution_count": 2,
   "metadata": {},
   "outputs": [],
   "source": [
    "true_w = np.ones((num_inputs, 1)) * 0.01\n",
    "true_b = 0.05"
   ]
  },
  {
   "cell_type": "markdown",
   "metadata": {},
   "source": [
    "我们接着生成训练和测试数据集。\n",
    "\n"
   ]
  },
  {
   "cell_type": "code",
   "execution_count": 3,
   "metadata": {},
   "outputs": [],
   "source": [
    "X = np.random.normal(size=(num_train + num_test, num_inputs))\n",
    "y = np.matmul(X, true_w) + true_b\n",
    "y += .01 * np.random.normal(size=y.shape)\n",
    "X_train, X_test = X[:num_train, :], X[num_train:, :]\n",
    "y_train, y_test = y[:num_train], y[num_train:]"
   ]
  },
  {
   "cell_type": "markdown",
   "metadata": {},
   "source": [
    "当我们开始训练神经网络的时候，我们需要不断读取数据块。这里我们定义一个函数它每次返回`batch_size`个随机的样本和对应的目标。我们通过python的`yield`来构造一个迭代器。"
   ]
  },
  {
   "cell_type": "code",
   "execution_count": 4,
   "metadata": {},
   "outputs": [],
   "source": [
    "import random\n",
    "batch_size = 1\n",
    "def data_iter(X, y, num_examples, num_epochs, batch_size, shuffle=True):\n",
    "    idx = list(range(num_examples*num_epochs))\n",
    "    #random.shuffle(idx)\n",
    "    batch_X = []\n",
    "    batch_y = []\n",
    "    for i in idx:\n",
    "        i %= num_examples\n",
    "        batch_X.append(X[i])\n",
    "        batch_y.append(y[i])\n",
    "        if len(batch_X) == batch_size:\n",
    "            yield np.array(batch_X), np.array(batch_y)\n",
    "            batch_X = []\n",
    "            batch_y = []"
   ]
  },
  {
   "cell_type": "markdown",
   "metadata": {},
   "source": [
    "### 定义训练和测试\n",
    "跟前一样定义训练模块。你也许发现了主要区别，Trainer有一个新参数wd。我们通过优化算法的wd参数 (weight decay)实现对模型的正则化。这相当于L2L2范数正则化。实际上本文用的是tensorflow的正则化。\n",
    "\n"
   ]
  },
  {
   "cell_type": "code",
   "execution_count": 16,
   "metadata": {},
   "outputs": [],
   "source": [
    "%matplotlib inline\n",
    "import matplotlib as mpl\n",
    "mpl.rcParams['figure.dpi']= 120\n",
    "import matplotlib.pyplot as plt\n",
    "import numpy as np\n",
    "import tensorflow as tf\n",
    "\n",
    "def weight_variable(shape):\n",
    "    \"\"\"Create a weight variable with appropriate initialization.\"\"\"\n",
    "    #initial = tf.truncated_normal(shape, stddev=0.1)\n",
    "    with tf.name_scope('weights'):\n",
    "        initial = tf.random_normal_initializer(mean=0.0, stddev=1.0, seed=None, dtype=tf.float32)\n",
    "#        initial =  tf.zeros_initializer(dtype=tf.float32)\n",
    "    return tf.Variable(initial(shape))\n",
    "\n",
    "def bias_variable(shape):\n",
    "    \"\"\"Create a bias variable with appropriate initialization.\"\"\"\n",
    "    with tf.name_scope('bias'):\n",
    "        initial = tf.constant(0.0, shape=shape)\n",
    "    return tf.Variable(initial)  \n",
    "\n",
    "def init_params():\n",
    "    w = weight_variable([num_inputs, 1])\n",
    "    b = bias_variable([1])\n",
    "    params = [w, b]\n",
    "    return params\n",
    "\n",
    "def net(X, w, b):\n",
    "    return tf.matmul(X, w) + b\n",
    "\n",
    "def test(net, params, X, y):\n",
    "    #return square_loss(net(X, *params), y).mean().asscalar()\n",
    "    return square_loss(net(X, params[0], params[1]), y) \n",
    "\n",
    "def train(lambd):\n",
    "    num_epochs = 50\n",
    "    learning_rate = 0.01\n",
    "    batch_size = 10\n",
    "    input_placeholder = tf.placeholder(tf.float32, [None, num_inputs])\n",
    "    gt_placeholder = tf.placeholder(tf.float32, [None, 1])\n",
    "    w, b = params = init_params()\n",
    "    train_loss = []\n",
    "    test_loss = []\n",
    "    output = net(input_placeholder, w, b)\n",
    "    loss = tf.reduce_mean(tf.square(output - gt_placeholder))\n",
    "    for var in tf.global_variables():\n",
    "        loss += lambd * tf.nn.l2_loss(var)\n",
    "    train_op = tf.train.GradientDescentOptimizer(learning_rate).minimize(loss)\n",
    "    grad = tf.gradients(loss, [w, b])\n",
    "    init = tf.global_variables_initializer()\n",
    "    sess = tf.InteractiveSession()\n",
    "    sess.run(init)\n",
    "    \n",
    "    for batch_X, batch_y in data_iter(X_train, y_train, num_train, num_epochs, batch_size, shuffle=False):\n",
    "        output_, loss_, grad_,  _ = sess.run([output, loss, grad, train_op], feed_dict={input_placeholder: batch_X, gt_placeholder: batch_y})\n",
    "        train_loss.append(sess.run(loss, feed_dict={input_placeholder: X_train, gt_placeholder: y_train}))\n",
    "        test_loss.append(sess.run(loss, feed_dict={input_placeholder: X_test, gt_placeholder: y_test}))\n",
    "    plt.plot(train_loss)\n",
    "    plt.plot(test_loss)\n",
    "    plt.legend(['train', 'test'])\n",
    "    plt.show()\n"
   ]
  },
  {
   "cell_type": "code",
   "execution_count": 18,
   "metadata": {},
   "outputs": [
    {
     "data": {
      "image/png": "[encoded data removed]",
      "text/plain": [
       "<matplotlib.figure.Figure at 0x117920250>"
      ]
     },
     "metadata": {},
     "output_type": "display_data"
    }
   ],
   "source": [
    "train(5)"
   ]
  },
  {
   "cell_type": "code",
   "execution_count": null,
   "metadata": {},
   "outputs": [],
   "source": []
  },
  {
   "cell_type": "code",
   "execution_count": null,
   "metadata": {},
   "outputs": [],
   "source": []
  }
 ],
 "metadata": {
  "kernelspec": {
   "display_name": "Python 2",
   "language": "python",
   "name": "python2"
  },
  "language_info": {
   "codemirror_mode": {
    "name": "ipython",
    "version": 2
   },
   "file_extension": ".py",
   "mimetype": "text/x-python",
   "name": "python",
   "nbconvert_exporter": "python",
   "pygments_lexer": "ipython2",
   "version": "2.7.14"
  }
 },
 "nbformat": 4,
 "nbformat_minor": 2
}
