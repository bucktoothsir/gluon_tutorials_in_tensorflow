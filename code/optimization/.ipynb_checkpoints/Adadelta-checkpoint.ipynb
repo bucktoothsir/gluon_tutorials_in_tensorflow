{
 "cells": [
  {
   "cell_type": "markdown",
   "metadata": {},
   "source": [
    "## Adadelta——从零开始\n",
    "\n",
    "我们在“RMSProp——从零开始”一节中描述了，RMSProp针对Adagrad在迭代后期可能较难找到有用解的问题，对小批量随机梯度按元素平方项做指数加权移动平均而不是累加。另一种应对该问题的优化算法叫做Adadelta。有意思的是，它没有学习率超参数。\n",
    "\n",
    "### Adadelta算法\n",
    "Adadelta算法也像RMSProp一样，使用了小批量随机梯度按元素平方的指数加权移动平均变量$\\boldsymbol{s}$，并将其中每个元素初始化为0。 给定超参数$\\rho$且$0 \\leq \\rho < 1$， 在每次迭代中，RMSProp首先计算小批量随机梯度$\\boldsymbol{g}$，然后对该梯度按元素平方项$\\boldsymbol{g} \\odot \\boldsymbol{g}$做指数加权移动平均，记为$\\boldsymbol{s}$：\n",
    "\n",
    "$\\boldsymbol{s} \\leftarrow \\rho \\boldsymbol{s} + (1 - \\rho) \\boldsymbol{g} \\odot \\boldsymbol{g}$.\n",
    "\n",
    "然后，计算当前需要迭代的目标函数自变量的变化量$\\boldsymbol{g}^\\prime$：\n",
    "\n",
    "$\\boldsymbol{g}^\\prime \\leftarrow \\frac{\\sqrt{\\Delta\\boldsymbol{x} + \\epsilon}}{\\sqrt{\\boldsymbol{s} + \\epsilon}}   \\odot \\boldsymbol{g},$\n",
    "\n",
    "其中$\\epsilon$是为了维持数值稳定性而添加的常数，例如$10^−5$。和Adagrad与RMSProp一样，目标函数自变量中每个元素都分别拥有自己的学习率。上式中$\\Delta\\boldsymbol{x}$初始化为零张量，并记录$\\boldsymbol{g}^\\prime$按元素平方的指数加权移动平均：\n",
    "\n",
    "$\\Delta\\boldsymbol{x} \\leftarrow \\rho \\Delta\\boldsymbol{x} + (1 - \\rho) \\boldsymbol{g}^\\prime \\odot \\boldsymbol{g}^\\prime.$\n",
    "\n",
    "同样地，最后的自变量迭代步骤与小批量随机梯度下降类似：\n",
    "\n",
    "$\\boldsymbol{x} \\leftarrow \\boldsymbol{x} - \\boldsymbol{g}^\\prime.$\n",
    "\n",
    "### Adadelta的实现\n",
    "Adadelta的实现很简单。我们只需要把上面的数学公式翻译成代码。\n"
   ]
  },
  {
   "cell_type": "code",
   "execution_count": 45,
   "metadata": {},
   "outputs": [],
   "source": [
    "def adadelta(params, grads, sqrs, deltas, rho, batch_size):\n",
    "    for param, grad, sqr, delta in zip(params, grads, sqrs, deltas):\n",
    "        sqr[:] = rho * sqr + (1 - rho) * np.multiply(grad, grad)\n",
    "        cur_delta = np.multiply(np.sqrt(delta + 1e-5) / np.sqrt(sqr + 1e-5), grad)\n",
    "        delta[:]= rho * delta + (1 - rho) * np.multiply(cur_delta, cur_delta)\n",
    "        param[:] -= cur_delta\n",
    "    return params, sqrs, delta"
   ]
  },
  {
   "cell_type": "markdown",
   "metadata": {},
   "source": [
    "## 实验\n",
    "首先，导入本节中实验所需的包。"
   ]
  },
  {
   "cell_type": "code",
   "execution_count": 46,
   "metadata": {},
   "outputs": [],
   "source": [
    "%config InlineBackend.figure_format = 'retina'\n",
    "%matplotlib inline\n",
    "import sys\n",
    "import numpy as np\n",
    "import random\n",
    "\n",
    "sys.path.append('..')"
   ]
  },
  {
   "cell_type": "markdown",
   "metadata": {},
   "source": [
    "实验中，我们以之前介绍过的线性回归为例。设数据集的样本数为1000，我们使用权重w为[2, -3.4]，偏差b为4.2的线性回归模型来生成数据集。该模型的平方损失函数即所需优化的目标函数，模型参数即目标函数自变量。"
   ]
  },
  {
   "cell_type": "code",
   "execution_count": 47,
   "metadata": {},
   "outputs": [],
   "source": [
    "# 生成数据集。\n",
    "num_inputs = 2\n",
    "num_examples = 1000\n",
    "true_w = [2, -3.4]\n",
    "true_b = 4.2\n",
    "X = np.random.normal(scale=1, size=(num_examples, num_inputs))\n",
    "y = true_w[0] * X[:, 0] + true_w[1] * X[:, 1] + true_b\n",
    "y += 0.01 * np.random.normal(scale=1, size=y.shape)\n",
    "\n",
    "# 初始化模型参数。\n",
    "def init_params():\n",
    "    w = np.random.normal(scale=1, size=(num_inputs, 1))\n",
    "    b = np.zeros((1,))\n",
    "    sqrs = []\n",
    "    deltas = []\n",
    "    params = [w, b]\n",
    "    for param in params:\n",
    "        sqrs.append(np.zeros(param.shape))\n",
    "        deltas.append(np.zeros(param.shape))\n",
    "    return params, sqrs, deltas\n",
    "\n",
    "# 构造迭代器。\n",
    "def data_iter(batch_size):\n",
    "    idx = list(range(num_examples))\n",
    "    random.shuffle(idx)\n",
    "    for batch_i, i in enumerate(range(0, num_examples, batch_size)):\n",
    "        j = np.array(idx[i: min(i + batch_size, num_examples)])\n",
    "        yield batch_i, X[j], y[j]\n",
    "\n",
    "# 线性回归模型。\n",
    "def net(X, w, b):\n",
    "    return np.dot(X, w) + b\n",
    "\n",
    "# 损失函数。\n",
    "def square_loss(yhat, y):\n",
    "    return (yhat - np.reshape(y, yhat.shape)) ** 2 / 2\n",
    "\n",
    "def cal_grad(yhat, y, X):\n",
    "    grad_w = np.expand_dims(np.array([-np.dot((yhat - np.reshape(y, yhat.shape)).T, X[:, 0]), -np.dot((yhat - np.reshape(y, yhat.shape)).T, X[:, 1])]), axis=1)\n",
    "    #grad_w = np.array([-np.dot((yhat - np.reshape(y, yhat.shape)).T, X[:, 0])])\n",
    "    grad_b = -np.sum((yhat - np.reshape(y, yhat.shape)))\n",
    "    return [grad_w, grad_b]"
   ]
  },
  {
   "cell_type": "markdown",
   "metadata": {},
   "source": [
    "优化函数optimize与“梯度下降和随机梯度下降——从零开始”一节中的类似。"
   ]
  },
  {
   "cell_type": "code",
   "execution_count": 56,
   "metadata": {},
   "outputs": [],
   "source": [
    "import matplotlib as mpl\n",
    "\n",
    "import matplotlib.pyplot as plt\n",
    "\n",
    "def train(batch_size, rho, epochs, period):\n",
    "    [w, b], sqrs, deltas = init_params()\n",
    "    print w\n",
    "    print b\n",
    "    total_loss = [np.mean(square_loss(net(X, w, b), y))]\n",
    "    # 注意epoch从1开始计数。\n",
    "    for epoch in range(1, epochs + 1):\n",
    "        # 学习率自我衰减。\n",
    "        for batch_i, data, label in data_iter(batch_size):\n",
    "            output = net(data, w, b)\n",
    "            loss = square_loss(output, label)\n",
    "            grad =  cal_grad(label, output, data)\n",
    "            [w, b], sqrs, delta = adadelta([w, b], grad, sqrs, deltas, rho, batch_size)\n",
    "            if batch_i * batch_size % period == 0:\n",
    "                total_loss.append(\n",
    "                    np.mean(square_loss(net(X, w, b), y)))\n",
    "        print(\"Batch size %d, Epoch %d, loss %.4e\" %\n",
    "              (batch_size, epoch, total_loss[-1]))\n",
    "    print('w:', np.reshape(w, (1, -1)),\n",
    "          'b:', b, '\\n')\n",
    "    x_axis = np.linspace(0, epochs, len(total_loss), endpoint=True)\n",
    "    mpl.rcParams['figure.figsize'] = 3.5, 2.5\n",
    "    plt.semilogy(x_axis, total_loss)\n",
    "    plt.xlabel('epoch')\n",
    "    plt.ylabel('loss')\n",
    "    plt.show()"
   ]
  },
  {
   "cell_type": "markdown",
   "metadata": {},
   "source": [
    "最终，优化所得的模型参数值与它们的真实值较接近。\n",
    "\n"
   ]
  },
  {
   "cell_type": "code",
   "execution_count": 57,
   "metadata": {},
   "outputs": [
    {
     "name": "stdout",
     "output_type": "stream",
     "text": [
      "[[-0.68713997]\n",
      " [-1.9440547 ]]\n",
      "[0.]\n",
      "Batch size 10, Epoch 1, loss 5.0109e-05\n",
      "Batch size 10, Epoch 2, loss 4.9361e-05\n",
      "Batch size 10, Epoch 3, loss 4.9053e-05\n",
      "('w:', array([[ 2.00079787, -3.40016449]]), 'b:', array([4.20038855]), '\\n')\n"
     ]
    },
    {
     "data": {
      "image/png": "[encoded data removed]",
      "text/plain": [
       "<matplotlib.figure.Figure at 0x10b7f6310>"
      ]
     },
     "metadata": {
      "image/png": {
       "height": 182,
       "width": 255
      }
     },
     "output_type": "display_data"
    }
   ],
   "source": [
    "train(batch_size=10, rho=0.9999, epochs=3, period=10)\n"
   ]
  },
  {
   "cell_type": "code",
   "execution_count": null,
   "metadata": {},
   "outputs": [],
   "source": []
  },
  {
   "cell_type": "code",
   "execution_count": null,
   "metadata": {},
   "outputs": [],
   "source": []
  }
 ],
 "metadata": {
  "kernelspec": {
   "display_name": "Python 2",
   "language": "python",
   "name": "python2"
  },
  "language_info": {
   "codemirror_mode": {
    "name": "ipython",
    "version": 2
   },
   "file_extension": ".py",
   "mimetype": "text/x-python",
   "name": "python",
   "nbconvert_exporter": "python",
   "pygments_lexer": "ipython2",
   "version": "2.7.14"
  }
 },
 "nbformat": 4,
 "nbformat_minor": 2
}
