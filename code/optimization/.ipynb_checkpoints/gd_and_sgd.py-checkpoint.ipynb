{
 "cells": [
  {
   "cell_type": "markdown",
   "metadata": {},
   "source": [
    "## 梯度下降和随机梯度下降 — 从0开始\n",
    "在之前的教程里，我们通过损失函数$\\mathcal{L}$中参数的梯度$\\nabla_{\\theta}\\mathcal{L}$来决定如何更新模型$\\theta$的参数。我们也提到过学习率$\\eta$，并给出了使用梯度下降算法更新模型参数的步骤：\n",
    "\n",
    "$\\theta_{t} \\gets \\theta_{t-1} - \\eta \\nabla_{\\theta}\\mathcal{L}_{t-1}$\n",
    "\n",
    "在本节教程中，我们将详细介绍梯度下降算法和随机梯度下降算法。由于梯度下降是优化算法的核心部分，深刻理解梯度的意义十分重要。为了帮助大家深刻理解梯度，我们将从数学上阐释梯度下降的意义。\n",
    "\n",
    "### 一维梯度下降\n",
    "我们先以简单的一维梯度下降为例，解释梯度下降算法可以降低目标函数值的原因。一维梯度是一个标量，也称导数。\n",
    "\n",
    "假设函数$f: \\mathbb{R} \\rightarrow \\mathbb{R}$的输入和输出都是标量。根据泰勒展开公式，我们得到\n",
    "\n",
    "$f(x + \\epsilon) \\approx f(x) + f'(x) \\epsilon$\n",
    "\n",
    "\n",
    "假设$\\theta$是一个常数，将$\\epsilon$替换为$-\\eta f'(x)$后，我们有\n",
    "\n",
    "$f(x - \\eta f'(x)) \\approx f(x) -  \\eta f'(x)^2$\n",
    "\n",
    "如果$\\eta$是一个很小的正数，那么\n",
    "\n",
    "$f(x - \\eta f'(x)) \\leq f(x)$\n",
    "\n",
    "也就是说，如果当前导数$f'(x) \\neq 0$，按照$x := x - \\eta f'(x)$更新x可能降低$f(x)$的值。\n",
    "\n",
    "由于导数$f'(x)$是梯度在一维空间的特殊情况，上述更新$x$的方法也即一维空间的梯度下降。一维空间的梯度下降如下方左图所示，参数$x$沿着梯度方向不断更新。\n",
    "\n",
    "![image.png](http://zh.gluon.ai/_images/gd_and_overshooting.svg)\n",
    "### 学习率\n",
    "上述梯度下降算法中的$\\eta$（取正数）叫做学习率或步长。需要注意的是，学习率过大可能会造成$x$迈过（overshoot）最优解，甚至不断发散而无法收敛，如上方右图所示。\n",
    "\n",
    "然而，如果学习率过小，优化算法收敛速度会过慢。实际中，一个合适的学习率通常是需要通过实验调出来的。\n",
    "\n",
    "### 多维梯度下降\n",
    "现在我们考虑一个更广义的情况：目标函数的输入为向量，输出为标量。\n",
    "\n",
    "假设目标函数$f: \\mathbb{R}^d \\rightarrow \\mathbb{R}$的输入是一个多维向量$\\mathbf{x} = [x_1, x_2, \\ldots, x_d]^\\top$。目标函数$f(x)$有关$x$的梯度是一个由偏导数组成的向量：\n",
    "\n",
    "$\\nabla_\\mathbf{x} f(\\mathbf{x}) = \\bigg[\\frac{\\partial f(\\mathbf{x})}{\\partial x_1}, \\frac{\\partial f(\\mathbf{x})}{\\partial x_2}, \\ldots, \\frac{\\partial f(\\mathbf{x})}{\\partial x_d}\\bigg]^\\top.$.\n",
    "\n",
    "为表示简洁，我们有时用$\\nabla f(\\mathbf{x})$代替$\\nabla_\\mathbf{x} f(\\mathbf{x})$。梯度中每个偏导数元素$\\partial f(\\mathbf{x})/\\partial x_i$代表着$f$在$x$有关输入$x_i$的变化率。为了测量$f$沿着单位向量$u$方向上的变化率，在多元微积分中，我们定义$f$在$x$上沿着$u$方向的方向导数为\n",
    "\n",
    "$D_\\mathbf{u} f(\\mathbf{x}) = \\lim_{h \\rightarrow 0}  \\frac{f(\\mathbf{x} + h \\mathbf{u}) - f(\\mathbf{x})}{h}$\n",
    "\n",
    "由链式法则，该方向导数可以改写为\n",
    "\n",
    "$D_\\mathbf{u} f(\\mathbf{x}) = \\nabla f(\\mathbf{x}) \\cdot \\mathbf{u}$\n",
    "\n",
    "方向导数$D_\\mathbf{u} f(\\mathbf{x})$给出了$f$在$x$上沿着所有可能方向的变化率。为了最小化$f$，我们希望找到$f$能被降低最快的方向。因此，我们可以通过$u$来最小化方向导数$D_\\mathbf{u} f(\\mathbf{x})$。\n",
    "\n",
    "由于$D_\\mathbf{u} f(\\mathbf{x}) = \\|\\nabla f(\\mathbf{x})\\| \\cdot \\|\\mathbf{u}\\| \\cdot \\text{cos} (\\theta) = \\|\\nabla f(\\mathbf{x})\\| \\cdot \\text{cos} (\\theta)$， 其中$\\theta$为$\\nabla f(\\mathbf{x})$和$u$之间的夹角，当$\\theta = \\pi$，$\\cos (\\theta)$取得最小值$-1$。因此，当$u$在梯度方向$\\nabla f(\\mathbf{x})$的相反方向时，方向导数$D_\\mathbf{u} f(\\mathbf{x})$被最小化。所以，我们可能通过下面的梯度下降算法来不断降低目标函数f的值：\n",
    "\n",
    "$\\mathbf{x} := \\mathbf{x} - \\eta \\nabla f(\\mathbf{x})$\n",
    "\n",
    "相同地，其中$\\eta$（取正数）称作学习率或步长。\n",
    "\n",
    "### 随机梯度下降\n",
    "然而，当训练数据集很大时，梯度下降算法可能会难以使用。为了解释这个问题，考虑目标函数\n",
    "\n",
    "$f(\\mathbf{x}) = \\frac{1}{n} \\sum_{i = 1}^n f_i(\\mathbf{x}),$\n",
    "\n",
    "其中$f_i(i)$是有关索引为$i$的训练数据点的损失函数。需要强调的是，梯度下降每次迭代的计算开销随着$n$线性增长。因此，当$n$很大时，每次迭代的计算开销很高。\n",
    "\n",
    "这时我们需要随机梯度下降算法。在每次迭代时，该算法随机均匀采样$i$并计算$\\nabla f_i(\\mathbf{x})$。事实上，随机梯度$\\nabla f_i(\\mathbf{x})$是对梯度$\\nabla f(\\mathbf{x})$的无偏估计：\n",
    "\n",
    "$\\mathbb{E}_i \\nabla f_i(\\mathbf{x}) = \\frac{1}{n} \\sum_{i = 1}^n \\nabla f_i(\\mathbf{x}) = \\nabla f(\\mathbf{x})$\n",
    "\n",
    "### 小批量随机梯度下降\n",
    "广义上，每次迭代可以随机均匀采样一个由训练数据点索引所组成的小批量$\\mathcal{B}$。类似地，我们可以使用\n",
    "\n",
    "$\\nabla f_\\mathcal{B}(\\mathbf{x}) = \\frac{1}{|\\mathcal{B}|} \\sum_{i \\in \\mathcal{B}}\\nabla f_i(\\mathbf{x})$\n",
    "\n",
    "来更新$\\mathbf{x}$：\n",
    "\n",
    "$\\mathbf{x} := \\mathbf{x} - \\eta \\nabla f_\\mathcal{B}(\\mathbf{x}),$,\n",
    "其中$|\\mathcal{B}|$代表批量中索引数量，$\\eta$（取正数）称作学习率或步长。同样，小批量随机梯度$\\nabla f_\\mathcal{B}(\\mathbf{x})$也是对梯度$\\nabla f(\\mathbf{x})$的无偏估计:\n",
    "\n",
    "$\\mathbb{E}_\\mathcal{B} \\nabla f_\\mathcal{B}(\\mathbf{x}) = \\nabla f(\\mathbf{x}).$\n",
    "\n",
    "这个算法叫做小批量随机梯度下降。该算法每次迭代的计算开销为$\\mathcal{O}(|\\mathcal{B}|)$。因此，当批量较小时，每次迭代的计算开销也较小。\n",
    "\n",
    "### 算法实现和实验\n",
    "我们只需要实现小批量随机梯度下降。当批量大小等于训练集大小时，该算法即为梯度下降；批量大小为1即为随机梯度下降。"
   ]
  },
  {
   "cell_type": "code",
   "execution_count": 1,
   "metadata": {},
   "outputs": [],
   "source": [
    "# 小批量随机梯度下降。\n",
    "def sgd(params, grads, lr, batch_size):\n",
    "    for param, grad in zip(params, grads):\n",
    "        param[:] = param - lr * grad / batch_size"
   ]
  },
  {
   "cell_type": "markdown",
   "metadata": {},
   "source": [
    "实验中，我们以线性回归为例。其中真实参数`w`为[2, -3.4]，`b`为4.2。\n",
    "\n"
   ]
  },
  {
   "cell_type": "code",
   "execution_count": 17,
   "metadata": {},
   "outputs": [],
   "source": [
    "import numpy as np\n",
    "import random\n",
    "\n",
    "\n",
    "# 生成数据集。\n",
    "num_inputs = 1\n",
    "num_examples = 1000\n",
    "#true_w = [2, -3.4]\n",
    "true_w = [2]\n",
    "\n",
    "true_b = 4.2\n",
    "X = np.random.normal(scale=1, size=(num_examples, num_inputs))\n",
    "#y = true_w[0] * X[:, 0] + true_w[1] * X[:, 1] + true_b\n",
    "y = true_w[0] * X[:, 0]+ true_b\n",
    "\n",
    "y += .01 * np.random.normal(scale=1, size=y.shape)\n",
    "\n",
    "#dataset = gluon.data.ArrayDataset(X, y)\n",
    "\n",
    "# 构造迭代器。\n",
    "import random\n",
    "def data_iter(batch_size):\n",
    "    idx = list(range(num_examples))\n",
    "    random.shuffle(idx)\n",
    "    for batch_i, i in enumerate(range(0, num_examples, batch_size)):\n",
    "        j = np.array(idx[i: min(i + batch_size, num_examples)])\n",
    "        yield batch_i, X[j], y[j]\n",
    "\n",
    "# 初始化模型参数。\n",
    "def init_params():\n",
    "    w = np.random.normal(scale=1, size=(num_inputs, 1))\n",
    "    b = np.zeros((1,))\n",
    "    params = [w, b]\n",
    "    return params\n",
    "\n",
    "# 线性回归模型。\n",
    "def net(X, w, b):\n",
    "    return np.dot(X, w) + b\n",
    "\n",
    "# 损失函数。\n",
    "def square_loss(yhat, y):\n",
    "    return (yhat - np.reshape(y, yhat.shape)) ** 2 / 2\n",
    "\n",
    "def cal_grad(yhat, y, X):\n",
    "    import pdb\n",
    "    pdb.set_trace()\n",
    "    #grad_w = np.expand_dims(np.array([-np.dot((yhat - np.reshape(y, yhat.shape)).T, X[:, 0]), -np.dot((yhat - np.reshape(y, yhat.shape)).T, X[:, 1])]), axis=1)\n",
    "    grad_w = np.array([-np.dot((yhat - np.reshape(y, yhat.shape)).T, X[:, 0])])\n",
    "    grad_b = -np.sum((yhat - np.reshape(y, yhat.shape)))\n",
    "    return [grad_w, grad_b]"
   ]
  },
  {
   "cell_type": "markdown",
   "metadata": {},
   "source": [
    "接下来定义训练函数。当`epoch`大于2时（epoch从1开始计数），学习率以自乘0.1的方式自我衰减。训练函数的period参数说明，每次采样过该数目的数据点后，记录当前目标函数值用于作图。例如，当period和batch_size都为10时，每次迭代后均会记录目标函数值。"
   ]
  },
  {
   "cell_type": "code",
   "execution_count": 18,
   "metadata": {},
   "outputs": [],
   "source": [
    "%matplotlib inline\n",
    "import matplotlib as mpl\n",
    "%config InlineBackend.figure_format = 'retina'\n",
    "\n",
    "import matplotlib.pyplot as plt\n",
    "import numpy as np\n",
    "\n",
    "def train(batch_size, lr, epochs, period):\n",
    "    assert period >= batch_size and period % batch_size == 0\n",
    "    w, b = init_params()\n",
    "    total_loss = [np.mean(square_loss(net(X, w, b), y))]\n",
    "    # 注意epoch从1开始计数。\n",
    "    for epoch in range(1, epochs + 1):\n",
    "        # 学习率自我衰减。\n",
    "        if epoch > 2:\n",
    "            lr *= 0.1\n",
    "        for batch_i, data, label in data_iter(batch_size):\n",
    "            output = net(data, w, b)\n",
    "            loss = square_loss(output, label)\n",
    "            grad =  cal_grad(label, output, data)\n",
    "            sgd([w, b], grad, lr, batch_size)\n",
    "            if batch_i * batch_size % period == 0:\n",
    "                total_loss.append(\n",
    "                    np.mean(square_loss(net(X, w, b), y)))\n",
    "        print(\"Batch size %d, Learning rate %f, Epoch %d, loss %.4e\" %\n",
    "              (batch_size, lr, epoch, total_loss[-1]))\n",
    "    print('w:', np.reshape(w, (1, -1)),\n",
    "          'b:', b, '\\n')\n",
    "    x_axis = np.linspace(0, epochs, len(total_loss), endpoint=True)\n",
    "    mpl.rcParams['figure.figsize'] = 3.5, 2.5\n",
    "    plt.semilogy(x_axis, total_loss)\n",
    "    plt.xlabel('epoch')\n",
    "    plt.ylabel('loss')\n",
    "    plt.show()"
   ]
  },
  {
   "cell_type": "markdown",
   "metadata": {},
   "source": [
    "当批量大小为1时，训练使用的是随机梯度下降。在当前学习率下，目标函数值在早期快速下降后略有波动。当epoch大于2，学习率自我衰减后，目标函数值下降后较平稳。最终学到的参数值与真实值较接近。\n",
    "\n"
   ]
  },
  {
   "cell_type": "code",
   "execution_count": null,
   "metadata": {},
   "outputs": [
    {
     "name": "stdout",
     "output_type": "stream",
     "text": [
      "> <ipython-input-17-1ffb71d311a4>(48)cal_grad()\n",
      "-> grad_w = np.expand_dims(np.array([-np.dot((yhat - np.reshape(y, yhat.shape)).T, X[:, 0])]), axis=1)\n",
      "(Pdb) n\n",
      "> <ipython-input-17-1ffb71d311a4>(49)cal_grad()\n",
      "-> grad_b = -np.sum((yhat - np.reshape(y, yhat.shape)))\n",
      "(Pdb) grad_w.shape\n",
      "(1, 1)\n",
      "(Pdb) n\n",
      "> <ipython-input-17-1ffb71d311a4>(50)cal_grad()\n",
      "-> return [grad_w, grad_b]\n",
      "(Pdb) grad_b.shape\n",
      "()\n"
     ]
    }
   ],
   "source": [
    "train(batch_size=1, lr=0.2, epochs=3, period=10)\n"
   ]
  },
  {
   "cell_type": "markdown",
   "metadata": {},
   "source": [
    "当批量大小为1000时，由于训练数据集含1000个样本，此时训练使用的是梯度下降。在当前学习率下，目标函数值在前两个epoch下降较快。当epoch大于2，学习率自我衰减后，目标函数值下降较慢。最终学到的参数值与真实值较接近。"
   ]
  },
  {
   "cell_type": "code",
   "execution_count": null,
   "metadata": {},
   "outputs": [],
   "source": [
    "train(batch_size=1000, lr=0.999, epochs=3, period=1000)\n"
   ]
  },
  {
   "cell_type": "markdown",
   "metadata": {},
   "source": [
    "当批量大小为10时，由于训练数据集含1000个样本，此时训练使用的是小批量随机梯度下降。最终学到的参数值与真实值较接近。\n",
    "\n"
   ]
  },
  {
   "cell_type": "code",
   "execution_count": 15,
   "metadata": {},
   "outputs": [
    {
     "name": "stdout",
     "output_type": "stream",
     "text": [
      "Batch size 10, Learning rate 0.200000, Epoch 1, loss 5.2463e-05\n",
      "Batch size 10, Learning rate 0.200000, Epoch 2, loss 5.2045e-05\n",
      "Batch size 10, Learning rate 0.020000, Epoch 3, loss 5.1792e-05\n",
      "('w:', array([[ 1.99970485, -3.39944326]]), 'b:', array([4.1992955]), '\\n')\n"
     ]
    },
    {
     "data": {
      "image/png": "[encoded data removed]",
      "text/plain": [
       "<matplotlib.figure.Figure at 0x112328fd0>"
      ]
     },
     "metadata": {
      "image/png": {
       "height": 182,
       "width": 255
      }
     },
     "output_type": "display_data"
    }
   ],
   "source": [
    "train(batch_size=10, lr=0.2, epochs=3, period=10)\n"
   ]
  },
  {
   "cell_type": "markdown",
   "metadata": {},
   "source": [
    "同样是批量大小为10，我们把学习率改大。这时我们观察到目标函数值不断增大。这时典型的overshooting问题。"
   ]
  },
  {
   "cell_type": "code",
   "execution_count": null,
   "metadata": {},
   "outputs": [],
   "source": [
    "train(batch_size=10, lr=5, epochs=3, period=10)\n"
   ]
  },
  {
   "cell_type": "markdown",
   "metadata": {},
   "source": [
    "\n",
    "同样是批量大小为10，我们把学习率改小。这时我们观察到目标函数值下降较慢，直到3个epoch也没能得到接近真实值的解。"
   ]
  },
  {
   "cell_type": "code",
   "execution_count": 19,
   "metadata": {},
   "outputs": [
    {
     "name": "stdout",
     "output_type": "stream",
     "text": [
      "Batch size 10, Learning rate 0.000002, Epoch 1, loss 1.6455e+01\n",
      "Batch size 10, Learning rate 0.000002, Epoch 2, loss 1.6449e+01\n",
      "Batch size 10, Learning rate 0.000000, Epoch 3, loss 1.6448e+01\n",
      "('w:', array([[0.22154451, 0.07877413]]), 'b:', array([0.00177461]), '\\n')\n"
     ]
    },
    {
     "data": {
      "image/png": "[encoded data removed]",
      "text/plain": [
       "<matplotlib.figure.Figure at 0x112281b10>"
      ]
     },
     "metadata": {
      "image/png": {
       "height": 182,
       "width": 224
      }
     },
     "output_type": "display_data"
    }
   ],
   "source": [
    "train(batch_size=10, lr=0.000002, epochs=3, period=10)\n"
   ]
  },
  {
   "cell_type": "markdown",
   "metadata": {},
   "source": [
    "### 结论\n",
    "当训练数据较大，梯度下降每次迭代计算开销较大，因而（小批量）随机梯度下降更受青睐。\n",
    "学习率过大过小都有问题。合适的学习率要靠实验来调。"
   ]
  },
  {
   "cell_type": "markdown",
   "metadata": {},
   "source": []
  },
  {
   "cell_type": "code",
   "execution_count": null,
   "metadata": {},
   "outputs": [],
   "source": []
  }
 ],
 "metadata": {
  "kernelspec": {
   "display_name": "Python 2",
   "language": "python",
   "name": "python2"
  },
  "language_info": {
   "codemirror_mode": {
    "name": "ipython",
    "version": 2
   },
   "file_extension": ".py",
   "mimetype": "text/x-python",
   "name": "python",
   "nbconvert_exporter": "python",
   "pygments_lexer": "ipython2",
   "version": "2.7.14"
  }
 },
 "nbformat": 4,
 "nbformat_minor": 2
}
