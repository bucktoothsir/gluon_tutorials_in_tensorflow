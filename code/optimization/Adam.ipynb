{
 "cells": [
  {
   "cell_type": "markdown",
   "metadata": {},
   "source": [
    "## Adam——从零开始\n"
   ]
  },
  {
   "cell_type": "markdown",
   "metadata": {},
   "source": [
    "Adam是一个组合了动量法和RMSProp的优化算法 [1]。下面我们来介绍Adam算法。\n",
    "\n",
    "### Adam算法\n",
    "Adam算法使用了动量变量$\\boldsymbol{v}$和RMSProp中小批量随机梯度按元素平方的指数加权移动平均变量$\\boldsymbol{s}$，并将它们中每个元素初始化为0。在每次迭代中，首先计算小批量随机梯度$\\boldsymbol{g}$，并递增迭代次数\n",
    "\n",
    "$t \\leftarrow t + 1.$\n",
    "\n",
    "和动量法类似，给定超参数$\\beta_1$且满足$0 \\leq \\beta_1 < 1$（算法作者建议设为0.9），将小批量随机梯度$\\boldsymbol{g}$的指数加权移动平均记作动量变量$\\boldsymbol{v}$:\n",
    "\n",
    "$\\boldsymbol{v} \\leftarrow \\beta_1 \\boldsymbol{v} + (1 - \\beta_1) \\boldsymbol{g}.$\n",
    "\n",
    "和RMSProp中一样，给定超参数$\\beta_2$且满足$0 \\leq \\beta_2 < 1$（算法作者建议设为0.999）， 将$\\boldsymbol{g}$按元素平方后做指数加权移动平均得到$\\boldsymbol{s}$：\n",
    "\n",
    "$\\boldsymbol{s} \\leftarrow \\beta_2 \\boldsymbol{s} + (1 - \\beta_2) \\boldsymbol{g} \\odot \\boldsymbol{g}$.\n",
    "\n",
    "我们在“动量法——从零开始”一节中解释了，$\\boldsymbol{v}$和$\\boldsymbol{s}$可分别看作是最近$1/(1 - \\beta_1)$个时刻$\\boldsymbol{g}$和最近$1/(1 - \\beta_2)$个时刻的$\\boldsymbol{g} \\odot \\boldsymbol{g}$的加权平均。假设$\\beta_1=0.9$，$\\beta_2=0.999$，如果$\\boldsymbol{v}$和$\\boldsymbol{s}$中的元素都初始化为0，在时刻1我们得到$\\boldsymbol{v}=0.1\\boldsymbol{g}$，$\\boldsymbol{s}=0.001\\boldsymbol{g} \\odot \\boldsymbol{g}$。实际上，在迭代初期t较小时，$\\boldsymbol{v}$和$\\boldsymbol{s}$可能过小而无法较准确地估计$\\boldsymbol{g}$和$\\boldsymbol{g} \\odot \\boldsymbol{g}$。为此，Adam算法使用了偏差修正：\n",
    "\n",
    "$\\hat{\\boldsymbol{v}} \\leftarrow \\frac{\\boldsymbol{v}}{1 - \\beta_1^t},$\n",
    "\n",
    "$\\hat{\\boldsymbol{s}} \\leftarrow \\frac{\\boldsymbol{s}}{1 - \\beta_2^t}.$\n",
    "\n",
    "由于$0 \\leq \\beta_1, \\beta_2 < 1$，在迭代初期t较小时，上面两式的分母较接近0，相当于放大了$\\boldsymbol{v}$和$\\boldsymbol{s}$的值。 当迭代后期t较大时，上面两式的分母较接近1，偏差修正就几乎不再有影响。\n",
    "\n",
    "接下来，Adam算法使用以上偏差修正后的动量变量$\\hat{\\boldsymbol{v}}$和RMSProp中小批量随机梯度按元素平方的指数加权移动平均变量$\\hat{\\boldsymbol{s}}$ ，将模型参数中每个元素的学习率通过按元素运算重新调整：\n",
    "\n",
    "$\\boldsymbol{g}^\\prime \\leftarrow \\frac{\\eta \\hat{\\boldsymbol{v}}}{\\sqrt{\\hat{\\boldsymbol{s}} + \\epsilon}}$,\n",
    "\n",
    "其中$\\eta$是初始学习率且$\\eta>0$，$\\epsilon$是为了维持数值稳定性而添加的常数，例如10−8。和Adagrad、RMSProp以及Adadelta一样，目标函数自变量中每个元素都分别拥有自己的学习率。\n",
    "\n",
    "最后，自变量迭代步骤与小批量随机梯度下降类似：\n",
    "\n",
    "$\\boldsymbol{x} \\leftarrow \\boldsymbol{x} - \\boldsymbol{g}^\\prime.$\n",
    "### Adam的实现\n",
    "Adam的实现很简单。我们只需要把上面的数学公式翻译成代码。\n",
    "\n"
   ]
  },
  {
   "cell_type": "code",
   "execution_count": 22,
   "metadata": {},
   "outputs": [],
   "source": [
    "def adam(params, grads, vs, sqrs, lr, batch_size, t):\n",
    "    beta1 = 0.9\n",
    "    beta2 = 0.999\n",
    "    eps_stable = 1e-8\n",
    "    for param, grad, v, sqr in zip(params, grads, vs, sqrs):\n",
    "        g = grad\n",
    "        v[:] = beta1 * v + (1 - beta1) * g\n",
    "        sqr[:] = beta2 * sqr + (1 - beta2) * np.multiply(g, g)\n",
    "        v_bias_corr = v / (1 - beta1 ** t)\n",
    "        sqr_bias_corr = sqr / (1 - beta2 ** t)\n",
    "        param[:] = param - lr * v_bias_corr / (\n",
    "            np.sqrt(sqr_bias_corr) + eps_stable)\n",
    "    return params, vs, sqrs\n",
    "\n"
   ]
  },
  {
   "cell_type": "markdown",
   "metadata": {},
   "source": [
    "## 实验\n",
    "首先，导入实验所需的包。"
   ]
  },
  {
   "cell_type": "code",
   "execution_count": 23,
   "metadata": {},
   "outputs": [],
   "source": [
    "%config InlineBackend.figure_format = 'retina'\n",
    "%matplotlib inline\n",
    "import sys\n",
    "import numpy as np\n",
    "import random\n",
    "\n",
    "sys.path.append('..')"
   ]
  },
  {
   "cell_type": "markdown",
   "metadata": {},
   "source": [
    "实验中，我们以之前介绍过的线性回归为例。设数据集的样本数为1000，我们使用权重w为[2, -3.4]，偏差b为4.2的线性回归模型来生成数据集。该模型的平方损失函数即所需优化的目标函数，模型参数即目标函数自变量。"
   ]
  },
  {
   "cell_type": "code",
   "execution_count": 24,
   "metadata": {},
   "outputs": [],
   "source": [
    "# 生成数据集。\n",
    "num_inputs = 2\n",
    "num_examples = 1000\n",
    "true_w = [2, -3.4]\n",
    "true_b = 4.2\n",
    "X = np.random.normal(scale=1, size=(num_examples, num_inputs))\n",
    "y = true_w[0] * X[:, 0] + true_w[1] * X[:, 1] + true_b\n",
    "y += 0.01 * np.random.normal(scale=1, size=y.shape)\n",
    "\n",
    "# 初始化模型参数。\n",
    "def init_params():\n",
    "    w = np.random.normal(scale=1, size=(num_inputs, 1))\n",
    "    b = np.zeros((1,))\n",
    "    sqrs = []\n",
    "    vs = []\n",
    "    params = [w, b]\n",
    "    for param in params:\n",
    "        sqrs.append(np.zeros(param.shape))\n",
    "        vs.append(np.zeros(param.shape))\n",
    "    return params, vs, sqrs\n",
    "\n",
    "# 构造迭代器。\n",
    "def data_iter(batch_size):\n",
    "    idx = list(range(num_examples))\n",
    "    random.shuffle(idx)\n",
    "    for batch_i, i in enumerate(range(0, num_examples, batch_size)):\n",
    "        j = np.array(idx[i: min(i + batch_size, num_examples)])\n",
    "        yield batch_i, X[j], y[j]\n",
    "\n",
    "# 线性回归模型。\n",
    "def net(X, w, b):\n",
    "    return np.dot(X, w) + b\n",
    "\n",
    "# 损失函数。\n",
    "def square_loss(yhat, y):\n",
    "    return (yhat - np.reshape(y, yhat.shape)) ** 2 / 2\n",
    "\n",
    "def cal_grad(yhat, y, X):\n",
    "    grad_w = np.expand_dims(np.array([-np.dot((yhat - np.reshape(y, yhat.shape)).T, X[:, 0]), -np.dot((yhat - np.reshape(y, yhat.shape)).T, X[:, 1])]), axis=1)\n",
    "    #grad_w = np.array([-np.dot((yhat - np.reshape(y, yhat.shape)).T, X[:, 0])])\n",
    "    grad_b = -np.sum((yhat - np.reshape(y, yhat.shape)))\n",
    "    return [grad_w, grad_b]"
   ]
  },
  {
   "cell_type": "markdown",
   "metadata": {},
   "source": [
    "优化函数optimize与“梯度下降和随机梯度下降——从零开始”一节中的类似。"
   ]
  },
  {
   "cell_type": "code",
   "execution_count": 27,
   "metadata": {},
   "outputs": [],
   "source": [
    "import matplotlib as mpl\n",
    "\n",
    "import matplotlib.pyplot as plt\n",
    "\n",
    "def train(batch_size, lr, epochs, period):\n",
    "    [w, b], vs, sqrs = init_params()\n",
    "    print w\n",
    "    print b\n",
    "    total_loss = [np.mean(square_loss(net(X, w, b), y))]\n",
    "    # 注意epoch从1开始计数。\n",
    "    for epoch in range(1, epochs + 1):\n",
    "        # 学习率自我衰减。\n",
    "        for batch_i, data, label in data_iter(batch_size):\n",
    "            output = net(data, w, b)\n",
    "            loss = square_loss(output, label)\n",
    "            grad =  cal_grad(label, output, data)\n",
    "            [w, b], vs, sqrs = adam([w, b], grad, vs, sqrs, lr, batch_size, batch_i+1)\n",
    "            if batch_i * batch_size % period == 0:\n",
    "                total_loss.append(\n",
    "                    np.mean(square_loss(net(X, w, b), y)))\n",
    "        print(\"Batch size %d, Epoch %d, loss %.4e\" %\n",
    "              (batch_size, epoch, total_loss[-1]))\n",
    "    print('w:', np.reshape(w, (1, -1)),\n",
    "          'b:', b, '\\n')\n",
    "    x_axis = np.linspace(0, epochs, len(total_loss), endpoint=True)\n",
    "    mpl.rcParams['figure.figsize'] = 3.5, 2.5\n",
    "    plt.semilogy(x_axis, total_loss)\n",
    "    plt.xlabel('epoch')\n",
    "    plt.ylabel('loss')\n",
    "    plt.show()"
   ]
  },
  {
   "cell_type": "markdown",
   "metadata": {},
   "source": [
    "最终，优化所得的模型参数值与它们的真实值较接近。\n"
   ]
  },
  {
   "cell_type": "code",
   "execution_count": 28,
   "metadata": {},
   "outputs": [
    {
     "name": "stdout",
     "output_type": "stream",
     "text": [
      "[[-0.91305612]\n",
      " [-0.68666153]]\n",
      "[0.]\n",
      "Batch size 10, Epoch 1, loss 1.4570e-03\n",
      "Batch size 10, Epoch 2, loss 5.2656e-05\n",
      "Batch size 10, Epoch 3, loss 5.2558e-05\n",
      "('w:', array([[ 1.99924251, -3.3998811 ]]), 'b:', array([4.20047852]), '\\n')\n"
     ]
    },
    {
     "data": {
      "image/png": "[encoded data removed]",
      "text/plain": [
       "<matplotlib.figure.Figure at 0x102111910>"
      ]
     },
     "metadata": {
      "image/png": {
       "height": 182,
       "width": 255
      }
     },
     "output_type": "display_data"
    }
   ],
   "source": [
    "train(batch_size=10, lr=0.1, epochs=3, period=10)\n"
   ]
  },
  {
   "cell_type": "markdown",
   "metadata": {},
   "source": [
    "## 小结\n",
    "Adam组合了动量法和RMSProp。\n",
    "Adam使用了偏差修正。"
   ]
  },
  {
   "cell_type": "code",
   "execution_count": null,
   "metadata": {},
   "outputs": [],
   "source": []
  }
 ],
 "metadata": {
  "kernelspec": {
   "display_name": "Python 2",
   "language": "python",
   "name": "python2"
  },
  "language_info": {
   "codemirror_mode": {
    "name": "ipython",
    "version": 2
   },
   "file_extension": ".py",
   "mimetype": "text/x-python",
   "name": "python",
   "nbconvert_exporter": "python",
   "pygments_lexer": "ipython2",
   "version": "2.7.14"
  }
 },
 "nbformat": 4,
 "nbformat_minor": 2
}
