{
 "cells": [
  {
   "cell_type": "markdown",
   "metadata": {},
   "source": [
    "## RMSProp——从零开始\n",
    "我们在“Adagrad——从零开始”一节里提到，由于调整学习率时分母上的变量s一直在累加按元素平方的小批量随机梯度，目标函数自变量每个元素的学习率在迭代过程中一直在降低（或不变）。所以，当学习率在迭代早期降得较快且当前解依然不佳时，Adagrad在迭代后期由于学习率过小，可能较难找到一个有用的解。为了应对这一问题，RMSProp算法对Adagrad做了一点小小的修改 [1]。\n",
    "\n",
    "下面，我们来描述RMSProp算法。\n",
    "\n",
    "### RMSProp算法\n",
    "我们在“动量法——从零开始”一节里介绍过指数加权移动平均。事实上，RMSProp算法使用了小批量随机梯度按元素平方的指数加权移动平均变量$\\gamma$，并将其中每个元素初始化为0。 给定超参数$\\gamma$且$0 \\leq \\gamma < 1$， 在每次迭代中，RMSProp首先计算小批量随机梯度$\\boldsymbol{g}$，然后对该梯度按元素平方项$\\boldsymbol{g} \\odot \\boldsymbol{g}$做指数加权移动平均，记为$\\boldsymbol{s}$：\n",
    "\n",
    "$\\boldsymbol{s} \\leftarrow \\gamma \\boldsymbol{s} + (1 - \\gamma) \\boldsymbol{g} \\odot \\boldsymbol{g}.$.\n",
    "\n",
    "然后，和Adagrad一样，将目标函数自变量中每个元素的学习率通过按元素运算重新调整一下：\n",
    "\n",
    "$\\boldsymbol{g}^\\prime \\leftarrow \\frac{\\eta}{\\sqrt{\\boldsymbol{s} + \\epsilon}} \\odot \\boldsymbol{g},$\n",
    "\n",
    "其中$\\eta$是初始学习率且$\\eta > 0$，$\\epsilon$是为了维持数值稳定性而添加的常数，例如$10^{-8}$。和Adagrad一样，模型参数中每个元素都分别拥有自己的学习率。同样地，最后的自变量迭代步骤与小批量随机梯度下降类似：\n",
    "\n",
    "$\\boldsymbol{x} \\leftarrow \\boldsymbol{x} - \\boldsymbol{g}^\\prime.$\n",
    "\n",
    "需要强调的是，RMSProp只在Adagrad的基础上修改了变量$\\boldsymbol{s}$的更新方法：对平方项$\\boldsymbol{g} \\odot \\boldsymbol{g}$从累加变成了指数加权移动平均。由于变量$\\boldsymbol{s}$可看作是最近$1/(1-\\gamma)$个时刻的平方项$\\boldsymbol{g} \\odot \\boldsymbol{g}$的加权平均，自变量每个元素的学习率在迭代过程中避免了“直降不升”的问题。\n",
    "\n",
    "### RMSProp的实现\n",
    "RMSProp的实现很简单。我们只需要把上面的数学公式翻译成代码。"
   ]
  },
  {
   "cell_type": "code",
   "execution_count": 79,
   "metadata": {},
   "outputs": [],
   "source": [
    "def RMSProp(params, grads, sqrs, lr, gamma, batch_size):\n",
    "    for param, grad, sqr in zip(params, grads, sqrs):\n",
    "        sqr[:] = gamma * sqr + (1 - gamma) * np.multiply(grad, grad)\n",
    "        param[:] -= lr * grad / np.sqrt(sqr + 1e-5)\n",
    "    return params, sqrs"
   ]
  },
  {
   "cell_type": "markdown",
   "metadata": {},
   "source": [
    "## 实验\n",
    "首先，导入本节中实验所需的包。"
   ]
  },
  {
   "cell_type": "code",
   "execution_count": 80,
   "metadata": {},
   "outputs": [],
   "source": [
    "%config InlineBackend.figure_format = 'retina'\n",
    "%matplotlib inline\n",
    "import sys\n",
    "import numpy as np\n",
    "import random\n",
    "\n",
    "sys.path.append('..')"
   ]
  },
  {
   "cell_type": "markdown",
   "metadata": {},
   "source": [
    "实验中，我们以之前介绍过的线性回归为例。设数据集的样本数为1000，我们使用权重w为[2, -3.4]，偏差b为4.2的线性回归模型来生成数据集。该模型的平方损失函数即所需优化的目标函数，模型参数即目标函数自变量。"
   ]
  },
  {
   "cell_type": "code",
   "execution_count": 81,
   "metadata": {},
   "outputs": [],
   "source": [
    "# 生成数据集。\n",
    "num_inputs = 2\n",
    "num_examples = 1000\n",
    "true_w = [2, -3.4]\n",
    "true_b = 4.2\n",
    "X = np.random.normal(scale=1, size=(num_examples, num_inputs))\n",
    "y = true_w[0] * X[:, 0] + true_w[1] * X[:, 1] + true_b\n",
    "y += 0.01 * np.random.normal(scale=1, size=y.shape)\n",
    "\n",
    "# 初始化模型参数。\n",
    "def init_params():\n",
    "    w = np.random.normal(scale=1, size=(num_inputs, 1))\n",
    "    b = np.zeros((1,))\n",
    "    sqrs = []\n",
    "    params = [w, b]\n",
    "    for param in params:\n",
    "        sqrs.append(np.zeros(param.shape))\n",
    "    return params, sqrs\n",
    "\n",
    "# 构造迭代器。\n",
    "def data_iter(batch_size):\n",
    "    idx = list(range(num_examples))\n",
    "    random.shuffle(idx)\n",
    "    for batch_i, i in enumerate(range(0, num_examples, batch_size)):\n",
    "        j = np.array(idx[i: min(i + batch_size, num_examples)])\n",
    "        yield batch_i, X[j], y[j]\n",
    "\n",
    "# 线性回归模型。\n",
    "def net(X, w, b):\n",
    "    return np.dot(X, w) + b\n",
    "\n",
    "# 损失函数。\n",
    "def square_loss(yhat, y):\n",
    "    return (yhat - np.reshape(y, yhat.shape)) ** 2 / 2\n",
    "\n",
    "def cal_grad(yhat, y, X):\n",
    "    grad_w = np.expand_dims(np.array([-np.dot((yhat - np.reshape(y, yhat.shape)).T, X[:, 0]), -np.dot((yhat - np.reshape(y, yhat.shape)).T, X[:, 1])]), axis=1)\n",
    "    #grad_w = np.array([-np.dot((yhat - np.reshape(y, yhat.shape)).T, X[:, 0])])\n",
    "    grad_b = -np.sum((yhat - np.reshape(y, yhat.shape)))\n",
    "    return [grad_w, grad_b]"
   ]
  },
  {
   "cell_type": "markdown",
   "metadata": {},
   "source": [
    "优化函数optimize与“梯度下降和随机梯度下降——从零开始”一节中的类似。"
   ]
  },
  {
   "cell_type": "code",
   "execution_count": 82,
   "metadata": {},
   "outputs": [],
   "source": [
    "import matplotlib as mpl\n",
    "\n",
    "import matplotlib.pyplot as plt\n",
    "\n",
    "def train(batch_size, lr, gamma, epochs, period):\n",
    "    [w, b], sqrs = init_params()\n",
    "    total_loss = [np.mean(square_loss(net(X, w, b), y))]\n",
    "    # 注意epoch从1开始计数。\n",
    "    for epoch in range(1, epochs + 1):\n",
    "        # 学习率自我衰减。\n",
    "        if epoch > 2:\n",
    "            lr *= 0.1\n",
    "        for batch_i, data, label in data_iter(batch_size):\n",
    "            output = net(data, w, b)\n",
    "            loss = square_loss(output, label)\n",
    "            grad =  cal_grad(label, output, data)\n",
    "            [w, b], sqrs = RMSProp([w, b], grad, sqrs, lr, gamma, batch_size)\n",
    "            if batch_i * batch_size % period == 0:\n",
    "                total_loss.append(\n",
    "                    np.mean(square_loss(net(X, w, b), y)))\n",
    "        print(\"Batch size %d, Learning rate %f, Epoch %d, loss %.4e\" %\n",
    "              (batch_size, lr, epoch, total_loss[-1]))\n",
    "    print('w:', np.reshape(w, (1, -1)),\n",
    "          'b:', b, '\\n')\n",
    "    x_axis = np.linspace(0, epochs, len(total_loss), endpoint=True)\n",
    "    mpl.rcParams['figure.figsize'] = 3.5, 2.5\n",
    "    plt.semilogy(x_axis, total_loss)\n",
    "    plt.xlabel('epoch')\n",
    "    plt.ylabel('loss')\n",
    "    plt.show()"
   ]
  },
  {
   "cell_type": "markdown",
   "metadata": {},
   "source": [
    "我们将初始学习率设为0.03，并将$\\gamma$（gamma）设为0.9。此时，变量$\\boldsymbol{s}$可看作是最近$1/(1−0.9)=10$个时刻的平方项$\\boldsymbol{g} \\odot \\boldsymbol{g}$的加权平均。我们观察到，损失函数在迭代后期较震荡。\n",
    "\n"
   ]
  },
  {
   "cell_type": "code",
   "execution_count": 83,
   "metadata": {},
   "outputs": [
    {
     "name": "stdout",
     "output_type": "stream",
     "text": [
      "Batch size 10, Learning rate 0.030000, Epoch 1, loss 1.3413e+00\n",
      "Batch size 10, Learning rate 0.030000, Epoch 2, loss 2.7056e-04\n",
      "Batch size 10, Learning rate 0.003000, Epoch 3, loss 6.8205e-05\n",
      "('w:', array([[ 2.001152  , -3.39396709]]), 'b:', array([4.20044872]), '\\n')\n"
     ]
    },
    {
     "data": {
      "image/png": "[encoded data removed]",
      "text/plain": [
       "<matplotlib.figure.Figure at 0x1047d9ad0>"
      ]
     },
     "metadata": {
      "image/png": {
       "height": 182,
       "width": 255
      }
     },
     "output_type": "display_data"
    }
   ],
   "source": [
    "train(batch_size=10, lr=0.03, gamma=0.9, epochs=3, period=10)\n"
   ]
  },
  {
   "cell_type": "markdown",
   "metadata": {},
   "source": [
    "我们将$\\gamma$调大一点，例如0.999。此时，变量$\\boldsymbol{s}$可看作是最近1/(1−0.999)=1000个时刻的平方项$\\boldsymbol{g} \\odot \\boldsymbol{g}$的加权平均。这时损失函数在迭代后期较平滑。\n",
    "\n"
   ]
  },
  {
   "cell_type": "code",
   "execution_count": 84,
   "metadata": {},
   "outputs": [
    {
     "name": "stderr",
     "output_type": "stream",
     "text": [
      "/usr/local/lib/python2.7/site-packages/ipykernel_launcher.py:34: RuntimeWarning: overflow encountered in square\n",
      "/usr/local/lib/python2.7/site-packages/ipykernel_launcher.py:3: RuntimeWarning: overflow encountered in multiply\n",
      "  This is separate from the ipykernel package so we can avoid doing imports until\n",
      "/usr/local/lib/python2.7/site-packages/ipykernel_launcher.py:3: RuntimeWarning: invalid value encountered in multiply\n",
      "  This is separate from the ipykernel package so we can avoid doing imports until\n",
      "/usr/local/lib/python2.7/site-packages/ipykernel_launcher.py:3: RuntimeWarning: invalid value encountered in double_scalars\n",
      "  This is separate from the ipykernel package so we can avoid doing imports until\n"
     ]
    },
    {
     "name": "stdout",
     "output_type": "stream",
     "text": [
      "Batch size 10, Learning rate 0.030000, Epoch 1, loss nan\n",
      "Batch size 10, Learning rate 0.030000, Epoch 2, loss nan\n",
      "Batch size 10, Learning rate 0.003000, Epoch 3, loss nan\n",
      "('w:', array([[nan, nan]]), 'b:', array([nan]), '\\n')\n"
     ]
    },
    {
     "data": {
      "image/png": "[encoded data removed]",
      "text/plain": [
       "<matplotlib.figure.Figure at 0x104787150>"
      ]
     },
     "metadata": {
      "image/png": {
       "height": 184,
       "width": 271
      }
     },
     "output_type": "display_data"
    }
   ],
   "source": [
    "train(batch_size=10, lr=0.03, gamma=1, epochs=3, period=10)\n"
   ]
  },
  {
   "cell_type": "code",
   "execution_count": null,
   "metadata": {},
   "outputs": [],
   "source": []
  },
  {
   "cell_type": "code",
   "execution_count": null,
   "metadata": {},
   "outputs": [],
   "source": []
  },
  {
   "cell_type": "code",
   "execution_count": null,
   "metadata": {},
   "outputs": [],
   "source": []
  }
 ],
 "metadata": {
  "kernelspec": {
   "display_name": "Python 2",
   "language": "python",
   "name": "python2"
  },
  "language_info": {
   "codemirror_mode": {
    "name": "ipython",
    "version": 2
   },
   "file_extension": ".py",
   "mimetype": "text/x-python",
   "name": "python",
   "nbconvert_exporter": "python",
   "pygments_lexer": "ipython2",
   "version": "2.7.14"
  }
 },
 "nbformat": 4,
 "nbformat_minor": 2
}
